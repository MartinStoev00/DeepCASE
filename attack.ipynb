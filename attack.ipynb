{
 "cells": [
  {
   "metadata": {
    "ExecuteTime": {
     "end_time": "2024-11-18T19:28:15.853409Z",
     "start_time": "2024-11-18T19:28:15.745938Z"
    }
   },
   "cell_type": "code",
   "source": [
    "import math\n",
    "import os\n",
    "import torch\n",
    "import itertools\n",
    "import numpy as np\n",
    "import pandas as pd\n",
    "from tqdm import tqdm\n",
    "from deepcase_copy.context_builder.loss import LabelSmoothing\n",
    "from deepcase_copy.context_builder.context_builder import ContextBuilder\n",
    "from deepcase_copy.interpreter.interpreter import Interpreter\n",
    "from deepcase_copy.interpreter.utils import group_by, sp_unique\n",
    "from sklearn.model_selection import train_test_split\n",
    "from sklearn.metrics import confusion_matrix\n",
    "\n",
    "def disable_dropout(m):\n",
    "    if isinstance(m, torch.nn.Dropout):\n",
    "        m.p = 0.0 \n",
    "\n",
    "def to_cuda(item):\n",
    "    if torch.cuda.is_available():\n",
    "        return item.to('cuda')\n",
    "    return item\n",
    "\n",
    "def to_cuda_tensor(item):\n",
    "    return to_cuda(torch.tensor(item))\n",
    "\n",
    "def get_unique_indices_per_row(tensor):\n",
    "    indices_list = []\n",
    "    row_list = []\n",
    "    indices_list_set = set()\n",
    "    for row in range(len(tensor)):\n",
    "        curr = tuple(tensor[row])\n",
    "        if isinstance(tensor, torch.Tensor):\n",
    "            curr = tuple(tensor[row].tolist())\n",
    "        if curr in indices_list_set:\n",
    "            continue\n",
    "        row_list.append(curr)\n",
    "        indices_list.append(row)\n",
    "        indices_list_set.add(curr)\n",
    "    return indices_list\n",
    "\n",
    "def get_unique_indices_per_row_or_file(tensor, f_name):\n",
    "    if os.path.exists(f_name):\n",
    "        return torch.load(f_name)\n",
    "    t = get_unique_indices_per_row(tensor)\n",
    "    torch.save(t, f_name)\n",
    "    return t  \n",
    "\n",
    "ALPHA=1.0\n",
    "EPSILON=16.0\n",
    "MAX_ITER=int(math.ceil(min(EPSILON + 4, 1.25*EPSILON)))\n",
    "print(f\"{MAX_ITER=}\")\n",
    "PREDICT_THRESHOLD = 0.2\n",
    "builder = to_cuda(ContextBuilder.load('save/builder.save'))\n",
    "builder.apply(disable_dropout)\n",
    "interpreter = Interpreter.load('save/interpreter.save', builder)\n",
    "criterion = LabelSmoothing(builder.decoder_event.out.out_features, 0.1)\n",
    "\n",
    "with open('save/sequences.save', 'rb') as infile:\n",
    "    data = torch.load(infile)\n",
    "    context = data[\"context\"] # 172572\n",
    "    events  = data[\"events\"]\n",
    "    labels  = data[\"labels\"]\n",
    "    \n",
    "    indices = get_unique_indices_per_row_or_file(context, 'save/context.pt')    \n",
    "    train_indices, test_indices = train_test_split(indices, test_size=0.2, random_state=42, stratify=labels[indices])\n",
    "    \n",
    "    context_train = to_cuda(context[train_indices]) #\n",
    "    context_test  = to_cuda(context[test_indices])  # 4392\n",
    "    \n",
    "    events_train  = to_cuda(events[train_indices])\n",
    "    events_test   = to_cuda(events[test_indices])\n",
    "    \n",
    "    labels_train  = to_cuda(labels[train_indices])\n",
    "    labels_test   = to_cuda(labels[test_indices])\n",
    "\n",
    "def to_one_hot(t):\n",
    "    return to_cuda(builder.embedding_one_hot(t).clone().detach())\n",
    "\n",
    "def to_trace(o):\n",
    "    return torch.argmax(o, dim=-1).tolist()[0]\n",
    "\n",
    "def max_to_one(tensor):\n",
    "    max_indices = torch.argmax(tensor, dim=-1, keepdim=True)\n",
    "    result = torch.zeros_like(tensor)\n",
    "    result.scatter_(-1, max_indices, 1.0)\n",
    "    return result\n",
    "\n",
    "def to_output(context_chosen):\n",
    "    return builder.predict(context_chosen)\n",
    "\n",
    "def get_file_name(f_name, attention_query=False):\n",
    "    return f\"{ALPHA=}, {EPSILON=}/{\"attention_query\" if attention_query else \"no_query\"}/{f_name}\"\n",
    "\n",
    "def get_perturbation_change(trace, original):\n",
    "    a = original - EPSILON\n",
    "    b = (trace >= a).float() * trace + (trace < a).float() * a\n",
    "    c = (b > original + EPSILON).float() * (original + EPSILON) + (b <= original + EPSILON).float() * b\n",
    "    return max_to_one(c)\n",
    "\n",
    "def get_performance(context_chosen, event_chosen, attention_query=False):\n",
    "    if attention_query:\n",
    "        context_processed = to_cuda_tensor(to_trace(context_chosen)).unsqueeze(0)\n",
    "        pred_true = get_correct_prediction_for_list(context_processed, event_chosen.unsqueeze(0).unsqueeze(0), attention_query=True)[1]\n",
    "        return len(pred_true) == 0\n",
    "    output = to_output(context_chosen)\n",
    "    results_picked = torch.topk(output[0][0][0], len(output[0][0][0]))\n",
    "    exp = results_picked.values.exp()\n",
    "    res_indices = results_picked.indices\n",
    "    for j in range(len(output[0][0][0])):\n",
    "        if res_indices[j].item() == event_chosen:\n",
    "            return exp[j] < PREDICT_THRESHOLD\n",
    "    return False\n",
    "\n",
    "def get_changes_list(start, final):\n",
    "    perturbations_made = []\n",
    "    for i, (s, f) in enumerate(zip(start, final)):\n",
    "        if s != f:\n",
    "            perturbations_made.append((i, f.item()))\n",
    "    return perturbations_made\n",
    "\n",
    "def get_iter_count(context_given, target_given):\n",
    "    for current_trace_num in range(len(context_given)):\n",
    "        con, e = context_given[current_trace_num].unsqueeze(0), target_given.unsqueeze(1)[current_trace_num]\n",
    "        for i in range(MAX_ITER):\n",
    "            new_context = bim_no_iter(con, e, i)\n",
    "            if con[0].tolist() != new_context.tolist():\n",
    "                return i\n",
    "    return -1\n",
    "\n",
    "def get_perturbations(context_chosen, event_chosen, attention_query=False):\n",
    "    perturbed_collected_main = []\n",
    "    perturbed_indices_main = []\n",
    "    perturbed_iterations_main = []\n",
    "    pred_false, pred_true = get_correct_prediction_for_list(context_chosen, event_chosen.unsqueeze(1), attention_query=attention_query)\n",
    "    states = [len(pred_false), 0, 0]\n",
    "    for current_trace_num in tqdm(pred_true):\n",
    "        con, e = context_chosen[current_trace_num].unsqueeze(0), event_chosen.unsqueeze(1)[current_trace_num]\n",
    "        perturbed_result, perturb_iterations = bim_attack(con, e, attention_query=attention_query)\n",
    "        if perturbed_result is not None:\n",
    "            states[1] += 1\n",
    "            perturbed_collected_main.append(perturbed_result)\n",
    "            perturbed_indices_main.append(current_trace_num)\n",
    "            perturbed_iterations_main.append(perturb_iterations)\n",
    "        else:\n",
    "            states[2] += 1\n",
    "    return to_cuda_tensor(perturbed_collected_main), to_cuda_tensor(perturbed_indices_main), to_cuda_tensor(states), to_cuda_tensor(perturbed_iterations_main)\n",
    "\n",
    "def get_perturbations_or_file(context_chosen, event_chosen, attention_query=False):\n",
    "    f_name_perturbed = get_file_name(\"perturbed_collected.pt\", attention_query=attention_query)\n",
    "    f_name_indices = get_file_name(\"perturbed_indices.pt\", attention_query=attention_query)\n",
    "    f_name_distribution = get_file_name(\"perturbed_distribution.pt\", attention_query=attention_query)\n",
    "    f_name_iterations = get_file_name(\"perturbed_iterations.pt\", attention_query=attention_query)\n",
    "    if os.path.exists(f_name_perturbed) and os.path.exists(f_name_indices) and os.path.exists(f_name_distribution) and os.path.exists(f_name_iterations):\n",
    "        print(f\"Loading {f_name_perturbed}\")\n",
    "        print(f\"Loading {f_name_indices}\")\n",
    "        print(f\"Loading {f_name_distribution}\")\n",
    "        print(torch.load(f_name_distribution))\n",
    "        return torch.load(f_name_perturbed), torch.load(f_name_indices), torch.load(f_name_distribution), torch.load(f_name_iterations)\n",
    "    os.makedirs(f\"{ALPHA=}, {EPSILON=}/{\"attention_query\" if attention_query else \"no_query\"}\", exist_ok=True)\n",
    "    perturb_main, indices_main, result_main, iterations_main = get_perturbations(context_chosen, event_chosen, attention_query=attention_query)\n",
    "    torch.save(perturb_main, f_name_perturbed)\n",
    "    torch.save(indices_main, f_name_indices)\n",
    "    torch.save(result_main, f_name_distribution)\n",
    "    torch.save(iterations_main, f_name_iterations)\n",
    "    print(result_main)\n",
    "    return perturb_main, indices_main, result_main, iterations_main\n",
    "\n",
    "def get_possible_combinations(perturbations_made):\n",
    "    subsets = []\n",
    "    for r_index in range(1, len(perturbations_made)):\n",
    "        subsets.extend(itertools.combinations(perturbations_made, r_index))\n",
    "    result = [list(subset) for subset in subsets]\n",
    "    return result\n",
    "\n",
    "def get_minimum_change_for_perturbation_no_query(perturbed_chosen, context_chosen, events_chosen):\n",
    "    for combination in get_possible_combinations(get_changes_list(context_chosen, perturbed_chosen)):\n",
    "        copy = to_cuda(context_chosen.clone().detach())\n",
    "        for index_of_change, value_of_change in combination:\n",
    "            copy[index_of_change] = value_of_change\n",
    "        if get_performance(to_one_hot(copy.unsqueeze(0)), events_chosen):\n",
    "            return copy\n",
    "    return perturbed_chosen\n",
    "\n",
    "def get_minimum_change_for_perturbation_attention_query(perturbed_chosen, context_chosen, events_chosen):\n",
    "    trace_combinations = []\n",
    "    for combination in get_possible_combinations(get_changes_list(context_chosen, perturbed_chosen)):\n",
    "        copy = to_cuda(context_chosen.clone().detach())\n",
    "        for index_of_change, value_of_change in combination:\n",
    "            copy[index_of_change] = value_of_change\n",
    "        trace_combinations.append(copy)\n",
    "    if len(trace_combinations) == 0:\n",
    "        return perturbed_chosen\n",
    "    mask_indices = get_correct_prediction_for_list(torch.stack(trace_combinations), torch.full((len(trace_combinations), 1), events_chosen.item()))[0]\n",
    "    chosen = perturbed_chosen\n",
    "    if len(mask_indices) != 0:\n",
    "        chosen = trace_combinations[mask_indices[0]]\n",
    "    return chosen\n",
    "    \n",
    "def get_correct_prediction_for_list(context_chosen, events_chosen, attention_query=False):\n",
    "    _, mask = interpreter.attended_context(\n",
    "        X           = to_one_hot(context_chosen),\n",
    "        y           = to_cuda(events_chosen),\n",
    "        iterations  = 100 if attention_query else 0\n",
    "    )\n",
    "    return torch.where(~mask)[0], torch.where(mask)[0]\n",
    "    \n",
    "def get_shortcuts_or_file(perturbed_chosen, context_chosen, events_chosen, attention_query=False):\n",
    "    f_name = get_file_name(\"shortcuts.pt\", attention_query=attention_query)\n",
    "    if os.path.exists(f_name):\n",
    "        print(f\"Loading {f_name}\")\n",
    "        return torch.load(f_name)\n",
    "    get_shortcuts_func = get_minimum_change_for_perturbation_attention_query if attention_query else get_minimum_change_for_perturbation_no_query\n",
    "    pick_list = []\n",
    "    for perturbed_element  in tqdm(zip(perturbed_chosen, context_chosen, events_chosen), total=len(perturbed_chosen)):\n",
    "        pick_list.append(get_shortcuts_func(*perturbed_element))\n",
    "    pick_list =  to_cuda(torch.stack(pick_list))\n",
    "    torch.save(pick_list, f_name)\n",
    "    return pick_list\n",
    "    \n",
    "def get_dist(trace_dist):\n",
    "    tensor_tuples = [tuple(t) if len(t) > 0 else (t.item(),) for t in trace_dist]\n",
    "    index_groups = {}\n",
    "    for idx, tensor_tuple in enumerate(tensor_tuples):\n",
    "        if tensor_tuple not in index_groups:\n",
    "            index_groups[tensor_tuple] = []\n",
    "        index_groups[tensor_tuple].append(idx)\n",
    "    sorted_groups = sorted(index_groups.items(), key=lambda x: (len(x[0]), x[0]))\n",
    "    return [idx for _, indices_l in sorted_groups for idx in indices_l]\n",
    "    \n",
    "def get_matrix_perturb(context_chosen, perturb_chosen):\n",
    "    matrix = [0] * 10\n",
    "    for c, p in zip(context_chosen, perturb_chosen):\n",
    "        cp = len(get_changes_list(c, p)) - 1\n",
    "        matrix[cp] += 1\n",
    "    return pd.DataFrame(matrix, index=range(1, 11))\n",
    "\n",
    "def get_matrix_shortcuts(context_chosen, shortcut_chosen, perturb_chosen):\n",
    "    matrix = [[0] * 10 for _ in range(10)]\n",
    "    for c, s, p in zip(context_chosen, shortcut_chosen, perturb_chosen):\n",
    "        cs = len(get_changes_list(c, s)) - 1\n",
    "        cp = len(get_changes_list(c, p)) - 1\n",
    "        matrix[cp][cs] += 1\n",
    "    return pd.DataFrame(matrix, index=range(10), columns=range(10))\n",
    "    \n",
    "def interpret_query(context_passed, events_passed, threshold=0.2):\n",
    "    c = to_one_hot(context_passed)\n",
    "    e = events_passed.reshape(-1, 1)\n",
    "    interpreter.threshold = threshold\n",
    "    return interpreter.predict(X=c, y=e)\n",
    "\n",
    "def interpret(context_passed, events_passed, threshold=0.2):\n",
    "    c = to_one_hot(context_passed)\n",
    "    e = events_passed.reshape(-1, 1)\n",
    "    interpreter.threshold = threshold\n",
    "    return interpreter.predict(X=c, y=e, iterations=0)\n",
    "    \n",
    "def get_combined(perturbed_chosen, perturbed_indices_chosen, attention_query=False):\n",
    "    interpret_func = interpret_query if attention_query else interpret\n",
    "    context_test_copy = context_test.clone().detach()\n",
    "    context_test_copy[perturbed_indices_chosen] = perturbed_chosen\n",
    "    context_test_copy_indices = get_unique_indices_per_row(context_test_copy)\n",
    "    return interpret_func(context_test_copy[context_test_copy_indices], events_test[context_test_copy_indices]), context_test_copy_indices\n",
    "    \n",
    "def bim_attack(context_chosen, event_chosen, attention_query=False):\n",
    "    original_context = to_one_hot(context_chosen)\n",
    "    context_processed = to_one_hot(context_chosen)\n",
    "    for iteration in range(MAX_ITER):\n",
    "        context_processed.requires_grad_(True)\n",
    "        output = builder.predict(context_processed)\n",
    "        if get_performance(context_processed, event_chosen[0], attention_query=attention_query):\n",
    "            return to_trace(context_processed), iteration\n",
    "        loss = criterion(output[0][0], event_chosen)\n",
    "        context_processed.retain_grad()\n",
    "        loss.backward(retain_graph=True)\n",
    "        grad = context_processed.grad\n",
    "        # print(f\"Gradient Norm: {torch.norm(grad).item()}, Loss: {loss.item()}\")\n",
    "        context_processed = get_perturbation_change(context_processed + ALPHA * grad.sign(), original_context)\n",
    "    return None, -1\n",
    "    \n",
    "def format_results(results):\n",
    "    results_picked = torch.topk(results[0][0][0], 3)\n",
    "    exp = results_picked.values.exp()\n",
    "    res_indices = results_picked.indices\n",
    "    return \", \".join([f\"{format_list([res_indices[j].item()])} {'{:.3f}'.format(exp[j])}\" for j in range(3)])\n",
    "  \n",
    "def format_changes(start, final):\n",
    "    changes = []\n",
    "    same = []\n",
    "    for s, f in zip(start, final):\n",
    "        if s == f:\n",
    "            changes.append(\"-\")\n",
    "            same.append(final)\n",
    "        else:\n",
    "            changes.append(f)\n",
    "            same.append(\"XX\")\n",
    "    return format_list(changes), format_list(same)\n",
    "\n",
    "def format_list(li):\n",
    "    return f\"[{\", \".join([f'{num:2}' for num in li])}]\"\n",
    "            \n",
    "def format_trace_prediction(current_trace_num, trace):\n",
    "    start = \" \"*(len(str(current_trace_num)) + 2)\n",
    "    trace = to_cuda(trace.clone().detach()).unsqueeze(0)\n",
    "    return f\"{start}{format_list(trace)} -> {format_results(to_output(trace))}\\n\"\n",
    "            \n",
    "def format_perturbation(perturb_chosen, perturb_int, context_chosen, event_chosen, current_trace_num):\n",
    "    result_string = f\"{current_trace_num}: {format_list(context_chosen[0].tolist())} == {event_chosen.tolist()} Changed [{perturb_int}], Perturbations [{len(get_changes_list(context_chosen, perturb_chosen))}]\\n\"\n",
    "    result_string += format_trace_prediction(current_trace_num, context_chosen)    \n",
    "    result_string += format_trace_prediction(current_trace_num, perturb_chosen)    \n",
    "    changed_entries, same_entries = format_changes(context_chosen, perturb_chosen)\n",
    "    result_string += f\"{\" \"*(len(str(current_trace_num)) - 1)}== {same_entries}\\n{\" \"*(len(str(current_trace_num)) - 1)}-> {changed_entries}\\n\\n\"\n",
    "    return result_string\n",
    "\n",
    "def format_attention(x_mask, context_mask, vectors, neighbours, distance, scores):\n",
    "    data_collected = [] \n",
    "    for i in range(len(context_mask)):\n",
    "        l_value = torch.tensor(vectors[context_mask][i].toarray()[0])\n",
    "        l_indices = torch.nonzero(l_value, as_tuple=False).squeeze(1)\n",
    "        data_collected.append({\n",
    "            \"trace\": x_mask[context_mask][i],\n",
    "            \"indices\": l_indices.tolist(),\n",
    "            \"value\": l_value[l_indices].tolist(),\n",
    "            \"neighbour\": f\"{{{neighbours[i]:5}; {scores[i]} | {'{:.4f}'.format(distance[i][0]) }}}\"\n",
    "        })\n",
    "    res_str = \"\"\n",
    "    for s in get_dist(list(map(lambda x: x[\"indices\"], data_collected))):\n",
    "        local_l = data_collected[s]\n",
    "        local_list = list(zip(local_l[\"indices\"], local_l[\"value\"]))\n",
    "        res = f\"{format_list(local_l[\"trace\"].tolist())} -> \"\n",
    "        for index, value in sorted(local_list, key=lambda x: x[1], reverse=True):\n",
    "            res += f\"[{f'{index:2}'}]: {'{:.4f}'.format(value)} \"\n",
    "        res_str += res + f\"{\" \"*(150 - len(res))} {local_l[\"neighbour\"]}\\n\"\n",
    "    return res_str\n",
    "\n",
    "def format_series(series):\n",
    "    return pd.Series(series).value_counts().sort_index()\n",
    "\n",
    "def format_confusion_matrix(y_true, y_pred):\n",
    "    format_labels = sorted(list(set(y_true.tolist()) | set(y_pred.tolist())))\n",
    "    cm_df = pd.DataFrame(confusion_matrix(y_true, y_pred), index=format_labels, columns=format_labels)\n",
    "    cm_df_filtered = cm_df.loc[cm_df.sum(axis=1) != 0, :]\n",
    "    cm_df_filtered = cm_df_filtered.loc[:, cm_df_filtered.sum() != 0]\n",
    "    return cm_df_filtered\n",
    "\n",
    "def show_clusters(x, y):\n",
    "    vectors, mask = interpreter.attended_context(to_one_hot(x), y.reshape(-1, 1))\n",
    "    indices_y = group_by(y[mask].reshape(-1, 1).cpu().numpy(), lambda e: e.data.tobytes(),)\n",
    "    with open(f\"{ALPHA=}, {EPSILON=}/cluster.txt\", \"w\") as file:\n",
    "        for event, context_mask in indices_y:\n",
    "            event = ord(event.decode('ascii')[0])   \n",
    "            if event not in interpreter.tree:\n",
    "                file.write(f\"{\"<\"*50}[{event}]{\">\"*50}\\n\")\n",
    "                continue\n",
    "            file.write(f\"{\"=\"*50}[{event}]{\"=\"*50}\\n\")\n",
    "            vectors_, inverse, _ = sp_unique(vectors[context_mask])\n",
    "            distance, neighbours = interpreter.tree[event].query(\n",
    "                X               = vectors_.toarray(),\n",
    "                return_distance = True,\n",
    "                dualtree        = vectors_.shape[0] >= 1e3, # Optimization\n",
    "            )\n",
    "            neighbours = interpreter.tree[event].get_arrays()[1][neighbours][:, 0]\n",
    "            scores = np.asarray([interpreter.labels[event][neighbour] for neighbour in neighbours])\n",
    "            file.write(format_attention(x[mask], context_mask, vectors, neighbours[inverse], distance[inverse], scores[inverse]) + \"\\n\")\n",
    "\n",
    "def bim_no_iter(context_chosen, event_chosen, iters):\n",
    "    context_processed = to_one_hot(context_chosen)\n",
    "    original_context = to_one_hot(context_chosen)\n",
    "    context_processed.requires_grad_(True)\n",
    "    output = builder.predict(context_processed)\n",
    "    loss = criterion(output[0][0], event_chosen)\n",
    "    context_processed.retain_grad()\n",
    "    loss.backward(retain_graph=True)\n",
    "    context_processed = get_perturbation_change(context_processed + (ALPHA * context_processed.grad.sign()) * iters, original_context)\n",
    "    return to_cuda_tensor(torch.argmax(context_processed, dim=-1).tolist()[0])\n",
    "\n",
    "def run_bim(context_to_process, events_to_process):\n",
    "    perturbed_collected_main = []\n",
    "    perturbed_indices_main = []\n",
    "    states = [0, 0, 0]\n",
    "    length = len(context_to_process)\n",
    "    iters = tqdm(range(length))\n",
    "    iters_to_flip = get_iter_count(context_to_process, events_to_process)\n",
    "    for current_trace_num in iters:\n",
    "        con, e = context_to_process[current_trace_num].unsqueeze(0), events_to_process.unsqueeze(1)[current_trace_num]\n",
    "        if get_performance(to_one_hot(con), e[0]):\n",
    "            states[0] += 1\n",
    "            continue\n",
    "        perturbed = bim_no_iter(con, e, iters=iters_to_flip).unsqueeze(0)\n",
    "        if get_performance(perturbed, e[0]):\n",
    "            perturbed_collected_main.append(perturbed.tolist()[0])\n",
    "            perturbed_indices_main.append(current_trace_num)\n",
    "            states[1] += 1\n",
    "        else:\n",
    "            states[2] += 1\n",
    "    print(f\"incorrect={states[0]} perturbed={states[1]} timeout={states[2]}\")\n",
    "    return to_cuda_tensor(perturbed_collected_main), to_cuda_tensor(perturbed_indices_main)"
   ],
   "id": "aed0a48282625435",
   "outputs": [
    {
     "name": "stdout",
     "output_type": "stream",
     "text": [
      "MAX_ITER=20\n"
     ]
    }
   ],
   "execution_count": 532
  },
  {
   "metadata": {
    "ExecuteTime": {
     "end_time": "2024-11-18T19:28:16.264323Z",
     "start_time": "2024-11-18T19:28:16.261934Z"
    }
   },
   "cell_type": "code",
   "source": [
    "# limit = 1000\n",
    "# a1_perturb, a1_indices, a1_dist, a1_iter = get_perturbations(context_test[:limit], events_test[:limit], attention_query=False)\n",
    "# a1_dist"
   ],
   "id": "a07a0674dfe955c3",
   "outputs": [],
   "execution_count": 533
  },
  {
   "metadata": {
    "ExecuteTime": {
     "end_time": "2024-11-18T19:28:16.303741Z",
     "start_time": "2024-11-18T19:28:16.301215Z"
    }
   },
   "cell_type": "code",
   "source": [
    "# a1_incorrect = get_correct_prediction_for_list(context_test[:limit], events_test[:limit].unsqueeze(1))[0]\n",
    "# a1_exclude = torch.cat((a1_incorrect, a1_indices))\n",
    "# a1_full_range = to_cuda(torch.arange(0, limit))\n",
    "# a1_mask = ~torch.isin(a1_full_range, a1_exclude)"
   ],
   "id": "6be465aaefa58ee",
   "outputs": [],
   "execution_count": 534
  },
  {
   "metadata": {
    "ExecuteTime": {
     "end_time": "2024-11-18T19:28:16.375533Z",
     "start_time": "2024-11-18T19:28:16.373381Z"
    }
   },
   "cell_type": "code",
   "source": [
    "# a1_targeted = a1_full_range[a1_mask]\n",
    "# a1_targeted = a1_targeted[[0]]\n",
    "# a2_perturb, a2_indices, a2_dist, a2_iter = get_perturbations(context_test[a1_targeted], events_test[a1_targeted])\n",
    "# a2_dist, a2_perturb"
   ],
   "id": "186cbb859d912d87",
   "outputs": [],
   "execution_count": 535
  },
  {
   "metadata": {
    "ExecuteTime": {
     "end_time": "2024-11-18T19:28:16.425252Z",
     "start_time": "2024-11-18T19:28:16.422983Z"
    }
   },
   "cell_type": "code",
   "source": "# format_series(a1_iter.cpu())",
   "id": "fbbf00cf0dba699b",
   "outputs": [],
   "execution_count": 536
  },
  {
   "metadata": {},
   "cell_type": "markdown",
   "source": "# Base Data",
   "id": "6a04b88285b0ac18"
  },
  {
   "metadata": {
    "ExecuteTime": {
     "end_time": "2024-11-18T19:28:16.483160Z",
     "start_time": "2024-11-18T19:28:16.478845Z"
    }
   },
   "cell_type": "code",
   "source": "format_series(labels_test.cpu())",
   "id": "a018199d3bba7e91",
   "outputs": [
    {
     "data": {
      "text/plain": [
       "1      65\n",
       "2     454\n",
       "3    3864\n",
       "5       9\n",
       "Name: count, dtype: int64"
      ]
     },
     "execution_count": 537,
     "metadata": {},
     "output_type": "execute_result"
    }
   ],
   "execution_count": 537
  },
  {
   "metadata": {},
   "cell_type": "markdown",
   "source": "### Without Attention Query",
   "id": "5a1f42a37cfab86a"
  },
  {
   "metadata": {
    "ExecuteTime": {
     "end_time": "2024-11-18T19:28:17.136242Z",
     "start_time": "2024-11-18T19:28:16.511082Z"
    }
   },
   "cell_type": "code",
   "source": [
    "res_normal = interpret(context_test, events_test)\n",
    "format_series(res_normal)"
   ],
   "id": "9080c2f76b7cefc0",
   "outputs": [
    {
     "data": {
      "text/plain": [
       "-3.0    2675\n",
       "-1.0    1074\n",
       " 2.0     147\n",
       " 3.0     480\n",
       " 5.0      16\n",
       "Name: count, dtype: int64"
      ]
     },
     "execution_count": 538,
     "metadata": {},
     "output_type": "execute_result"
    }
   ],
   "execution_count": 538
  },
  {
   "metadata": {
    "ExecuteTime": {
     "end_time": "2024-11-18T19:28:17.149243Z",
     "start_time": "2024-11-18T19:28:17.137834Z"
    }
   },
   "cell_type": "code",
   "source": "format_confusion_matrix(labels_test.cpu(), res_normal)",
   "id": "36aff409622aed33",
   "outputs": [
    {
     "data": {
      "text/plain": [
       "     -3.0  -1.0   2.0   3.0   5.0\n",
       "1.0    33    20     0     0    12\n",
       "2.0   221    86   147     0     0\n",
       "3.0  2420   964     0   480     0\n",
       "5.0     1     4     0     0     4"
      ],
      "text/html": [
       "<div>\n",
       "<style scoped>\n",
       "    .dataframe tbody tr th:only-of-type {\n",
       "        vertical-align: middle;\n",
       "    }\n",
       "\n",
       "    .dataframe tbody tr th {\n",
       "        vertical-align: top;\n",
       "    }\n",
       "\n",
       "    .dataframe thead th {\n",
       "        text-align: right;\n",
       "    }\n",
       "</style>\n",
       "<table border=\"1\" class=\"dataframe\">\n",
       "  <thead>\n",
       "    <tr style=\"text-align: right;\">\n",
       "      <th></th>\n",
       "      <th>-3.0</th>\n",
       "      <th>-1.0</th>\n",
       "      <th>2.0</th>\n",
       "      <th>3.0</th>\n",
       "      <th>5.0</th>\n",
       "    </tr>\n",
       "  </thead>\n",
       "  <tbody>\n",
       "    <tr>\n",
       "      <th>1.0</th>\n",
       "      <td>33</td>\n",
       "      <td>20</td>\n",
       "      <td>0</td>\n",
       "      <td>0</td>\n",
       "      <td>12</td>\n",
       "    </tr>\n",
       "    <tr>\n",
       "      <th>2.0</th>\n",
       "      <td>221</td>\n",
       "      <td>86</td>\n",
       "      <td>147</td>\n",
       "      <td>0</td>\n",
       "      <td>0</td>\n",
       "    </tr>\n",
       "    <tr>\n",
       "      <th>3.0</th>\n",
       "      <td>2420</td>\n",
       "      <td>964</td>\n",
       "      <td>0</td>\n",
       "      <td>480</td>\n",
       "      <td>0</td>\n",
       "    </tr>\n",
       "    <tr>\n",
       "      <th>5.0</th>\n",
       "      <td>1</td>\n",
       "      <td>4</td>\n",
       "      <td>0</td>\n",
       "      <td>0</td>\n",
       "      <td>4</td>\n",
       "    </tr>\n",
       "  </tbody>\n",
       "</table>\n",
       "</div>"
      ]
     },
     "execution_count": 539,
     "metadata": {},
     "output_type": "execute_result"
    }
   ],
   "execution_count": 539
  },
  {
   "metadata": {},
   "cell_type": "markdown",
   "source": "### Attention Query",
   "id": "51469441aedfa3b4"
  },
  {
   "metadata": {
    "ExecuteTime": {
     "end_time": "2024-11-18T19:28:18.481247Z",
     "start_time": "2024-11-18T19:28:17.150110Z"
    }
   },
   "cell_type": "code",
   "source": [
    "res_normal_query = interpret_query(context_test, events_test)\n",
    "format_series(res_normal_query)"
   ],
   "id": "8638fdbc6f7e0034",
   "outputs": [
    {
     "data": {
      "text/plain": [
       "-3.0     467\n",
       "-1.0     490\n",
       " 2.0     378\n",
       " 3.0    3025\n",
       " 5.0      32\n",
       "Name: count, dtype: int64"
      ]
     },
     "execution_count": 540,
     "metadata": {},
     "output_type": "execute_result"
    }
   ],
   "execution_count": 540
  },
  {
   "metadata": {
    "ExecuteTime": {
     "end_time": "2024-11-18T19:28:18.506598Z",
     "start_time": "2024-11-18T19:28:18.486240Z"
    }
   },
   "cell_type": "code",
   "source": "format_confusion_matrix(labels_test.cpu(), res_normal_query)",
   "id": "22ab7d1656b0060e",
   "outputs": [
    {
     "data": {
      "text/plain": [
       "     -3.0  -1.0   2.0   3.0   5.0\n",
       "1.0    25    13     0     0    27\n",
       "2.0    21    55   378     0     0\n",
       "3.0   420   419     0  3025     0\n",
       "5.0     1     3     0     0     5"
      ],
      "text/html": [
       "<div>\n",
       "<style scoped>\n",
       "    .dataframe tbody tr th:only-of-type {\n",
       "        vertical-align: middle;\n",
       "    }\n",
       "\n",
       "    .dataframe tbody tr th {\n",
       "        vertical-align: top;\n",
       "    }\n",
       "\n",
       "    .dataframe thead th {\n",
       "        text-align: right;\n",
       "    }\n",
       "</style>\n",
       "<table border=\"1\" class=\"dataframe\">\n",
       "  <thead>\n",
       "    <tr style=\"text-align: right;\">\n",
       "      <th></th>\n",
       "      <th>-3.0</th>\n",
       "      <th>-1.0</th>\n",
       "      <th>2.0</th>\n",
       "      <th>3.0</th>\n",
       "      <th>5.0</th>\n",
       "    </tr>\n",
       "  </thead>\n",
       "  <tbody>\n",
       "    <tr>\n",
       "      <th>1.0</th>\n",
       "      <td>25</td>\n",
       "      <td>13</td>\n",
       "      <td>0</td>\n",
       "      <td>0</td>\n",
       "      <td>27</td>\n",
       "    </tr>\n",
       "    <tr>\n",
       "      <th>2.0</th>\n",
       "      <td>21</td>\n",
       "      <td>55</td>\n",
       "      <td>378</td>\n",
       "      <td>0</td>\n",
       "      <td>0</td>\n",
       "    </tr>\n",
       "    <tr>\n",
       "      <th>3.0</th>\n",
       "      <td>420</td>\n",
       "      <td>419</td>\n",
       "      <td>0</td>\n",
       "      <td>3025</td>\n",
       "      <td>0</td>\n",
       "    </tr>\n",
       "    <tr>\n",
       "      <th>5.0</th>\n",
       "      <td>1</td>\n",
       "      <td>3</td>\n",
       "      <td>0</td>\n",
       "      <td>0</td>\n",
       "      <td>5</td>\n",
       "    </tr>\n",
       "  </tbody>\n",
       "</table>\n",
       "</div>"
      ]
     },
     "execution_count": 541,
     "metadata": {},
     "output_type": "execute_result"
    }
   ],
   "execution_count": 541
  },
  {
   "metadata": {},
   "cell_type": "markdown",
   "source": "# Perturbed Data",
   "id": "1e7b6103163f075a"
  },
  {
   "metadata": {},
   "cell_type": "markdown",
   "source": "### Without Attention Query",
   "id": "227b330b3da77190"
  },
  {
   "metadata": {
    "ExecuteTime": {
     "end_time": "2024-11-18T19:29:00.650081Z",
     "start_time": "2024-11-18T19:28:18.507747Z"
    }
   },
   "cell_type": "code",
   "source": "perturbed_collected, perturbed_indices, perturb_distribution, perturbed_iterations = get_perturbations_or_file(context_test, events_test)",
   "id": "7505db07e1f3f663",
   "outputs": [
    {
     "name": "stderr",
     "output_type": "stream",
     "text": [
      "100%|██████████| 3318/3318 [00:41<00:00, 79.16it/s] "
     ]
    },
    {
     "name": "stdout",
     "output_type": "stream",
     "text": [
      "tensor([1074, 3115,  203], device='cuda:0')\n"
     ]
    },
    {
     "name": "stderr",
     "output_type": "stream",
     "text": [
      "\n"
     ]
    }
   ],
   "execution_count": 542
  },
  {
   "metadata": {
    "ExecuteTime": {
     "end_time": "2024-11-18T19:29:01.908360Z",
     "start_time": "2024-11-18T19:29:00.651133Z"
    }
   },
   "cell_type": "code",
   "source": "get_matrix_perturb(context_test[perturbed_indices], perturbed_collected)",
   "id": "f617121f1a1134db",
   "outputs": [
    {
     "data": {
      "text/plain": [
       "      0\n",
       "1    44\n",
       "2   104\n",
       "3   242\n",
       "4   307\n",
       "5   376\n",
       "6   425\n",
       "7   381\n",
       "8   424\n",
       "9   380\n",
       "10  432"
      ],
      "text/html": [
       "<div>\n",
       "<style scoped>\n",
       "    .dataframe tbody tr th:only-of-type {\n",
       "        vertical-align: middle;\n",
       "    }\n",
       "\n",
       "    .dataframe tbody tr th {\n",
       "        vertical-align: top;\n",
       "    }\n",
       "\n",
       "    .dataframe thead th {\n",
       "        text-align: right;\n",
       "    }\n",
       "</style>\n",
       "<table border=\"1\" class=\"dataframe\">\n",
       "  <thead>\n",
       "    <tr style=\"text-align: right;\">\n",
       "      <th></th>\n",
       "      <th>0</th>\n",
       "    </tr>\n",
       "  </thead>\n",
       "  <tbody>\n",
       "    <tr>\n",
       "      <th>1</th>\n",
       "      <td>44</td>\n",
       "    </tr>\n",
       "    <tr>\n",
       "      <th>2</th>\n",
       "      <td>104</td>\n",
       "    </tr>\n",
       "    <tr>\n",
       "      <th>3</th>\n",
       "      <td>242</td>\n",
       "    </tr>\n",
       "    <tr>\n",
       "      <th>4</th>\n",
       "      <td>307</td>\n",
       "    </tr>\n",
       "    <tr>\n",
       "      <th>5</th>\n",
       "      <td>376</td>\n",
       "    </tr>\n",
       "    <tr>\n",
       "      <th>6</th>\n",
       "      <td>425</td>\n",
       "    </tr>\n",
       "    <tr>\n",
       "      <th>7</th>\n",
       "      <td>381</td>\n",
       "    </tr>\n",
       "    <tr>\n",
       "      <th>8</th>\n",
       "      <td>424</td>\n",
       "    </tr>\n",
       "    <tr>\n",
       "      <th>9</th>\n",
       "      <td>380</td>\n",
       "    </tr>\n",
       "    <tr>\n",
       "      <th>10</th>\n",
       "      <td>432</td>\n",
       "    </tr>\n",
       "  </tbody>\n",
       "</table>\n",
       "</div>"
      ]
     },
     "execution_count": 543,
     "metadata": {},
     "output_type": "execute_result"
    }
   ],
   "execution_count": 543
  },
  {
   "metadata": {
    "ExecuteTime": {
     "end_time": "2024-11-18T19:29:02.187484Z",
     "start_time": "2024-11-18T19:29:01.909369Z"
    }
   },
   "cell_type": "code",
   "source": [
    "print(\"Unique:\", len(get_unique_indices_per_row(perturbed_collected)))\n",
    "interpreter_perturbed = interpret(perturbed_collected, events_test[perturbed_indices])\n",
    "format_series(interpreter_perturbed)"
   ],
   "id": "917381ce1abdffbe",
   "outputs": [
    {
     "name": "stdout",
     "output_type": "stream",
     "text": [
      "Unique: 2489\n"
     ]
    },
    {
     "data": {
      "text/plain": [
       "-1.0    3115\n",
       "Name: count, dtype: int64"
      ]
     },
     "execution_count": 544,
     "metadata": {},
     "output_type": "execute_result"
    }
   ],
   "execution_count": 544
  },
  {
   "metadata": {
    "ExecuteTime": {
     "end_time": "2024-11-18T19:29:02.734475Z",
     "start_time": "2024-11-18T19:29:02.188506Z"
    }
   },
   "cell_type": "code",
   "source": "format_confusion_matrix(labels_test[perturbed_indices].cpu(), interpret(context_test[perturbed_indices], events_test[perturbed_indices]))",
   "id": "1e91ea3cf1e14ab9",
   "outputs": [
    {
     "data": {
      "text/plain": [
       "     -3.0   2.0   3.0   5.0\n",
       "1.0    33     0     0     2\n",
       "2.0   221   146     0     0\n",
       "3.0  2316     0   396     0\n",
       "5.0     1     0     0     0"
      ],
      "text/html": [
       "<div>\n",
       "<style scoped>\n",
       "    .dataframe tbody tr th:only-of-type {\n",
       "        vertical-align: middle;\n",
       "    }\n",
       "\n",
       "    .dataframe tbody tr th {\n",
       "        vertical-align: top;\n",
       "    }\n",
       "\n",
       "    .dataframe thead th {\n",
       "        text-align: right;\n",
       "    }\n",
       "</style>\n",
       "<table border=\"1\" class=\"dataframe\">\n",
       "  <thead>\n",
       "    <tr style=\"text-align: right;\">\n",
       "      <th></th>\n",
       "      <th>-3.0</th>\n",
       "      <th>2.0</th>\n",
       "      <th>3.0</th>\n",
       "      <th>5.0</th>\n",
       "    </tr>\n",
       "  </thead>\n",
       "  <tbody>\n",
       "    <tr>\n",
       "      <th>1.0</th>\n",
       "      <td>33</td>\n",
       "      <td>0</td>\n",
       "      <td>0</td>\n",
       "      <td>2</td>\n",
       "    </tr>\n",
       "    <tr>\n",
       "      <th>2.0</th>\n",
       "      <td>221</td>\n",
       "      <td>146</td>\n",
       "      <td>0</td>\n",
       "      <td>0</td>\n",
       "    </tr>\n",
       "    <tr>\n",
       "      <th>3.0</th>\n",
       "      <td>2316</td>\n",
       "      <td>0</td>\n",
       "      <td>396</td>\n",
       "      <td>0</td>\n",
       "    </tr>\n",
       "    <tr>\n",
       "      <th>5.0</th>\n",
       "      <td>1</td>\n",
       "      <td>0</td>\n",
       "      <td>0</td>\n",
       "      <td>0</td>\n",
       "    </tr>\n",
       "  </tbody>\n",
       "</table>\n",
       "</div>"
      ]
     },
     "execution_count": 545,
     "metadata": {},
     "output_type": "execute_result"
    }
   ],
   "execution_count": 545
  },
  {
   "metadata": {
    "ExecuteTime": {
     "end_time": "2024-11-18T19:29:02.746785Z",
     "start_time": "2024-11-18T19:29:02.735682Z"
    }
   },
   "cell_type": "code",
   "source": "format_confusion_matrix(labels_test[perturbed_indices].cpu(), interpreter_perturbed)",
   "id": "246f21acaefaf781",
   "outputs": [
    {
     "data": {
      "text/plain": [
       "     -1.0\n",
       "1.0    35\n",
       "2.0   367\n",
       "3.0  2712\n",
       "5.0     1"
      ],
      "text/html": [
       "<div>\n",
       "<style scoped>\n",
       "    .dataframe tbody tr th:only-of-type {\n",
       "        vertical-align: middle;\n",
       "    }\n",
       "\n",
       "    .dataframe tbody tr th {\n",
       "        vertical-align: top;\n",
       "    }\n",
       "\n",
       "    .dataframe thead th {\n",
       "        text-align: right;\n",
       "    }\n",
       "</style>\n",
       "<table border=\"1\" class=\"dataframe\">\n",
       "  <thead>\n",
       "    <tr style=\"text-align: right;\">\n",
       "      <th></th>\n",
       "      <th>-1.0</th>\n",
       "    </tr>\n",
       "  </thead>\n",
       "  <tbody>\n",
       "    <tr>\n",
       "      <th>1.0</th>\n",
       "      <td>35</td>\n",
       "    </tr>\n",
       "    <tr>\n",
       "      <th>2.0</th>\n",
       "      <td>367</td>\n",
       "    </tr>\n",
       "    <tr>\n",
       "      <th>3.0</th>\n",
       "      <td>2712</td>\n",
       "    </tr>\n",
       "    <tr>\n",
       "      <th>5.0</th>\n",
       "      <td>1</td>\n",
       "    </tr>\n",
       "  </tbody>\n",
       "</table>\n",
       "</div>"
      ]
     },
     "execution_count": 546,
     "metadata": {},
     "output_type": "execute_result"
    }
   ],
   "execution_count": 546
  },
  {
   "metadata": {
    "ExecuteTime": {
     "end_time": "2024-11-18T19:29:03.122796Z",
     "start_time": "2024-11-18T19:29:02.748884Z"
    }
   },
   "cell_type": "code",
   "source": [
    "interpret_perturbed_combined, interpret_perturbed_indices = get_combined(perturbed_collected, perturbed_indices)\n",
    "format_series(interpret_perturbed_combined)"
   ],
   "id": "9363911580e357cc",
   "outputs": [
    {
     "data": {
      "text/plain": [
       "-3.0     104\n",
       "-1.0    3561\n",
       " 2.0       1\n",
       " 3.0      84\n",
       " 5.0      14\n",
       "Name: count, dtype: int64"
      ]
     },
     "execution_count": 547,
     "metadata": {},
     "output_type": "execute_result"
    }
   ],
   "execution_count": 547
  },
  {
   "metadata": {
    "ExecuteTime": {
     "end_time": "2024-11-18T19:29:03.135142Z",
     "start_time": "2024-11-18T19:29:03.123719Z"
    }
   },
   "cell_type": "code",
   "source": "format_confusion_matrix(labels_test[interpret_perturbed_indices].cpu(), interpret_perturbed_combined)",
   "id": "db6da10a71c9a8c9",
   "outputs": [
    {
     "data": {
      "text/plain": [
       "     -3.0  -1.0   2.0   3.0   5.0\n",
       "1.0     0    49     0     0    10\n",
       "2.0     0   390     1     0     0\n",
       "3.0   104  3118     0    84     0\n",
       "5.0     0     4     0     0     4"
      ],
      "text/html": [
       "<div>\n",
       "<style scoped>\n",
       "    .dataframe tbody tr th:only-of-type {\n",
       "        vertical-align: middle;\n",
       "    }\n",
       "\n",
       "    .dataframe tbody tr th {\n",
       "        vertical-align: top;\n",
       "    }\n",
       "\n",
       "    .dataframe thead th {\n",
       "        text-align: right;\n",
       "    }\n",
       "</style>\n",
       "<table border=\"1\" class=\"dataframe\">\n",
       "  <thead>\n",
       "    <tr style=\"text-align: right;\">\n",
       "      <th></th>\n",
       "      <th>-3.0</th>\n",
       "      <th>-1.0</th>\n",
       "      <th>2.0</th>\n",
       "      <th>3.0</th>\n",
       "      <th>5.0</th>\n",
       "    </tr>\n",
       "  </thead>\n",
       "  <tbody>\n",
       "    <tr>\n",
       "      <th>1.0</th>\n",
       "      <td>0</td>\n",
       "      <td>49</td>\n",
       "      <td>0</td>\n",
       "      <td>0</td>\n",
       "      <td>10</td>\n",
       "    </tr>\n",
       "    <tr>\n",
       "      <th>2.0</th>\n",
       "      <td>0</td>\n",
       "      <td>390</td>\n",
       "      <td>1</td>\n",
       "      <td>0</td>\n",
       "      <td>0</td>\n",
       "    </tr>\n",
       "    <tr>\n",
       "      <th>3.0</th>\n",
       "      <td>104</td>\n",
       "      <td>3118</td>\n",
       "      <td>0</td>\n",
       "      <td>84</td>\n",
       "      <td>0</td>\n",
       "    </tr>\n",
       "    <tr>\n",
       "      <th>5.0</th>\n",
       "      <td>0</td>\n",
       "      <td>4</td>\n",
       "      <td>0</td>\n",
       "      <td>0</td>\n",
       "      <td>4</td>\n",
       "    </tr>\n",
       "  </tbody>\n",
       "</table>\n",
       "</div>"
      ]
     },
     "execution_count": 548,
     "metadata": {},
     "output_type": "execute_result"
    }
   ],
   "execution_count": 548
  },
  {
   "metadata": {},
   "cell_type": "markdown",
   "source": "### Applying No Attention Query Data to Attention Query",
   "id": "6b95cb3f71190315"
  },
  {
   "metadata": {
    "ExecuteTime": {
     "end_time": "2024-11-18T19:29:03.873596Z",
     "start_time": "2024-11-18T19:29:03.136251Z"
    }
   },
   "cell_type": "code",
   "source": [
    "print(\"Unique:\", len(get_unique_indices_per_row(perturbed_collected)))\n",
    "interpreter_perturbed_1 = interpret_query(perturbed_collected, events_test[perturbed_indices])\n",
    "format_series(interpreter_perturbed_1)"
   ],
   "id": "b6df6348f069ec8",
   "outputs": [
    {
     "name": "stdout",
     "output_type": "stream",
     "text": [
      "Unique: 2489\n"
     ]
    },
    {
     "data": {
      "text/plain": [
       "-3.0     127\n",
       "-1.0    2880\n",
       " 2.0       4\n",
       " 3.0     104\n",
       "Name: count, dtype: int64"
      ]
     },
     "execution_count": 549,
     "metadata": {},
     "output_type": "execute_result"
    }
   ],
   "execution_count": 549
  },
  {
   "metadata": {
    "ExecuteTime": {
     "end_time": "2024-11-18T19:29:03.884741Z",
     "start_time": "2024-11-18T19:29:03.874554Z"
    }
   },
   "cell_type": "code",
   "source": "format_confusion_matrix(labels_test[perturbed_indices].cpu(), interpreter_perturbed_1)",
   "id": "715a44bc9acaeb0c",
   "outputs": [
    {
     "data": {
      "text/plain": [
       "     -3.0  -1.0   2.0   3.0\n",
       "1.0     2    33     0     0\n",
       "2.0     8   355     4     0\n",
       "3.0   117  2491     0   104\n",
       "5.0     0     1     0     0"
      ],
      "text/html": [
       "<div>\n",
       "<style scoped>\n",
       "    .dataframe tbody tr th:only-of-type {\n",
       "        vertical-align: middle;\n",
       "    }\n",
       "\n",
       "    .dataframe tbody tr th {\n",
       "        vertical-align: top;\n",
       "    }\n",
       "\n",
       "    .dataframe thead th {\n",
       "        text-align: right;\n",
       "    }\n",
       "</style>\n",
       "<table border=\"1\" class=\"dataframe\">\n",
       "  <thead>\n",
       "    <tr style=\"text-align: right;\">\n",
       "      <th></th>\n",
       "      <th>-3.0</th>\n",
       "      <th>-1.0</th>\n",
       "      <th>2.0</th>\n",
       "      <th>3.0</th>\n",
       "    </tr>\n",
       "  </thead>\n",
       "  <tbody>\n",
       "    <tr>\n",
       "      <th>1.0</th>\n",
       "      <td>2</td>\n",
       "      <td>33</td>\n",
       "      <td>0</td>\n",
       "      <td>0</td>\n",
       "    </tr>\n",
       "    <tr>\n",
       "      <th>2.0</th>\n",
       "      <td>8</td>\n",
       "      <td>355</td>\n",
       "      <td>4</td>\n",
       "      <td>0</td>\n",
       "    </tr>\n",
       "    <tr>\n",
       "      <th>3.0</th>\n",
       "      <td>117</td>\n",
       "      <td>2491</td>\n",
       "      <td>0</td>\n",
       "      <td>104</td>\n",
       "    </tr>\n",
       "    <tr>\n",
       "      <th>5.0</th>\n",
       "      <td>0</td>\n",
       "      <td>1</td>\n",
       "      <td>0</td>\n",
       "      <td>0</td>\n",
       "    </tr>\n",
       "  </tbody>\n",
       "</table>\n",
       "</div>"
      ]
     },
     "execution_count": 550,
     "metadata": {},
     "output_type": "execute_result"
    }
   ],
   "execution_count": 550
  },
  {
   "metadata": {
    "ExecuteTime": {
     "end_time": "2024-11-18T19:29:04.962715Z",
     "start_time": "2024-11-18T19:29:03.885485Z"
    }
   },
   "cell_type": "code",
   "source": [
    "interpret_perturbed_combined_1, interpret_perturbed_indices_1 = get_combined(perturbed_collected, perturbed_indices, attention_query=True)\n",
    "format_series(interpret_perturbed_combined_1)"
   ],
   "id": "2a91b618e4bc4f3e",
   "outputs": [
    {
     "data": {
      "text/plain": [
       "-3.0     353\n",
       "-1.0    2754\n",
       " 2.0      22\n",
       " 3.0     621\n",
       " 5.0      14\n",
       "Name: count, dtype: int64"
      ]
     },
     "execution_count": 551,
     "metadata": {},
     "output_type": "execute_result"
    }
   ],
   "execution_count": 551
  },
  {
   "metadata": {
    "ExecuteTime": {
     "end_time": "2024-11-18T19:29:04.983336Z",
     "start_time": "2024-11-18T19:29:04.964347Z"
    }
   },
   "cell_type": "code",
   "source": "format_confusion_matrix(labels_test[interpret_perturbed_indices_1].cpu(), interpret_perturbed_combined_1)",
   "id": "53a7352b0d81a593",
   "outputs": [
    {
     "data": {
      "text/plain": [
       "     -3.0  -1.0   2.0   3.0   5.0\n",
       "1.0     9    40     0     0    10\n",
       "2.0    21   348    22     0     0\n",
       "3.0   322  2363     0   621     0\n",
       "5.0     1     3     0     0     4"
      ],
      "text/html": [
       "<div>\n",
       "<style scoped>\n",
       "    .dataframe tbody tr th:only-of-type {\n",
       "        vertical-align: middle;\n",
       "    }\n",
       "\n",
       "    .dataframe tbody tr th {\n",
       "        vertical-align: top;\n",
       "    }\n",
       "\n",
       "    .dataframe thead th {\n",
       "        text-align: right;\n",
       "    }\n",
       "</style>\n",
       "<table border=\"1\" class=\"dataframe\">\n",
       "  <thead>\n",
       "    <tr style=\"text-align: right;\">\n",
       "      <th></th>\n",
       "      <th>-3.0</th>\n",
       "      <th>-1.0</th>\n",
       "      <th>2.0</th>\n",
       "      <th>3.0</th>\n",
       "      <th>5.0</th>\n",
       "    </tr>\n",
       "  </thead>\n",
       "  <tbody>\n",
       "    <tr>\n",
       "      <th>1.0</th>\n",
       "      <td>9</td>\n",
       "      <td>40</td>\n",
       "      <td>0</td>\n",
       "      <td>0</td>\n",
       "      <td>10</td>\n",
       "    </tr>\n",
       "    <tr>\n",
       "      <th>2.0</th>\n",
       "      <td>21</td>\n",
       "      <td>348</td>\n",
       "      <td>22</td>\n",
       "      <td>0</td>\n",
       "      <td>0</td>\n",
       "    </tr>\n",
       "    <tr>\n",
       "      <th>3.0</th>\n",
       "      <td>322</td>\n",
       "      <td>2363</td>\n",
       "      <td>0</td>\n",
       "      <td>621</td>\n",
       "      <td>0</td>\n",
       "    </tr>\n",
       "    <tr>\n",
       "      <th>5.0</th>\n",
       "      <td>1</td>\n",
       "      <td>3</td>\n",
       "      <td>0</td>\n",
       "      <td>0</td>\n",
       "      <td>4</td>\n",
       "    </tr>\n",
       "  </tbody>\n",
       "</table>\n",
       "</div>"
      ]
     },
     "execution_count": 552,
     "metadata": {},
     "output_type": "execute_result"
    }
   ],
   "execution_count": 552
  },
  {
   "metadata": {},
   "cell_type": "markdown",
   "source": "### Attention Query",
   "id": "dd7d7f51a223e16d"
  },
  {
   "metadata": {
    "ExecuteTime": {
     "end_time": "2024-11-18T19:50:28.134620Z",
     "start_time": "2024-11-18T19:29:04.984681Z"
    }
   },
   "cell_type": "code",
   "source": "perturbed_collected_query, perturbed_indices_query, perturb_distribution_query, perturbed_iterations_query = get_perturbations_or_file(context_test, events_test, attention_query=True)",
   "id": "d9c4fa7234b074ae",
   "outputs": [
    {
     "name": "stderr",
     "output_type": "stream",
     "text": [
      "100%|██████████| 3902/3902 [21:22<00:00,  3.04it/s] "
     ]
    },
    {
     "name": "stdout",
     "output_type": "stream",
     "text": [
      "tensor([ 490, 3686,  216], device='cuda:0')\n"
     ]
    },
    {
     "name": "stderr",
     "output_type": "stream",
     "text": [
      "\n"
     ]
    }
   ],
   "execution_count": 553
  },
  {
   "metadata": {
    "ExecuteTime": {
     "end_time": "2024-11-18T19:50:29.312382Z",
     "start_time": "2024-11-18T19:50:28.135779Z"
    }
   },
   "cell_type": "code",
   "source": "get_matrix_perturb(context_test[perturbed_indices_query], perturbed_collected_query)",
   "id": "97f3dbe019df757d",
   "outputs": [
    {
     "data": {
      "text/plain": [
       "      0\n",
       "1    68\n",
       "2   168\n",
       "3   258\n",
       "4   381\n",
       "5   399\n",
       "6   467\n",
       "7   423\n",
       "8   495\n",
       "9   425\n",
       "10  602"
      ],
      "text/html": [
       "<div>\n",
       "<style scoped>\n",
       "    .dataframe tbody tr th:only-of-type {\n",
       "        vertical-align: middle;\n",
       "    }\n",
       "\n",
       "    .dataframe tbody tr th {\n",
       "        vertical-align: top;\n",
       "    }\n",
       "\n",
       "    .dataframe thead th {\n",
       "        text-align: right;\n",
       "    }\n",
       "</style>\n",
       "<table border=\"1\" class=\"dataframe\">\n",
       "  <thead>\n",
       "    <tr style=\"text-align: right;\">\n",
       "      <th></th>\n",
       "      <th>0</th>\n",
       "    </tr>\n",
       "  </thead>\n",
       "  <tbody>\n",
       "    <tr>\n",
       "      <th>1</th>\n",
       "      <td>68</td>\n",
       "    </tr>\n",
       "    <tr>\n",
       "      <th>2</th>\n",
       "      <td>168</td>\n",
       "    </tr>\n",
       "    <tr>\n",
       "      <th>3</th>\n",
       "      <td>258</td>\n",
       "    </tr>\n",
       "    <tr>\n",
       "      <th>4</th>\n",
       "      <td>381</td>\n",
       "    </tr>\n",
       "    <tr>\n",
       "      <th>5</th>\n",
       "      <td>399</td>\n",
       "    </tr>\n",
       "    <tr>\n",
       "      <th>6</th>\n",
       "      <td>467</td>\n",
       "    </tr>\n",
       "    <tr>\n",
       "      <th>7</th>\n",
       "      <td>423</td>\n",
       "    </tr>\n",
       "    <tr>\n",
       "      <th>8</th>\n",
       "      <td>495</td>\n",
       "    </tr>\n",
       "    <tr>\n",
       "      <th>9</th>\n",
       "      <td>425</td>\n",
       "    </tr>\n",
       "    <tr>\n",
       "      <th>10</th>\n",
       "      <td>602</td>\n",
       "    </tr>\n",
       "  </tbody>\n",
       "</table>\n",
       "</div>"
      ]
     },
     "execution_count": 554,
     "metadata": {},
     "output_type": "execute_result"
    }
   ],
   "execution_count": 554
  },
  {
   "metadata": {
    "ExecuteTime": {
     "end_time": "2024-11-18T19:50:30.040914Z",
     "start_time": "2024-11-18T19:50:29.313457Z"
    }
   },
   "cell_type": "code",
   "source": [
    "print(\"Unique:\", len(get_unique_indices_per_row(perturbed_collected_query)))\n",
    "interpret_query_perturbed = interpret_query(perturbed_collected_query, events_test[perturbed_indices_query])\n",
    "format_series(interpret_query_perturbed)"
   ],
   "id": "377942a9e333233f",
   "outputs": [
    {
     "name": "stdout",
     "output_type": "stream",
     "text": [
      "Unique: 2894\n"
     ]
    },
    {
     "data": {
      "text/plain": [
       "-1.0    3686\n",
       "Name: count, dtype: int64"
      ]
     },
     "execution_count": 555,
     "metadata": {},
     "output_type": "execute_result"
    }
   ],
   "execution_count": 555
  },
  {
   "metadata": {
    "ExecuteTime": {
     "end_time": "2024-11-18T19:50:31.286478Z",
     "start_time": "2024-11-18T19:50:30.041882Z"
    }
   },
   "cell_type": "code",
   "source": "format_confusion_matrix(labels_test[perturbed_indices_query].cpu(), interpret_query(context_test[perturbed_indices_query], events_test[perturbed_indices_query]))",
   "id": "4af53cca9dd7c0ac",
   "outputs": [
    {
     "data": {
      "text/plain": [
       "     -3.0   2.0   3.0   5.0\n",
       "1.0    25     0     0    17\n",
       "2.0    21   377     0     0\n",
       "3.0   385     0  2859     0\n",
       "5.0     1     0     0     1"
      ],
      "text/html": [
       "<div>\n",
       "<style scoped>\n",
       "    .dataframe tbody tr th:only-of-type {\n",
       "        vertical-align: middle;\n",
       "    }\n",
       "\n",
       "    .dataframe tbody tr th {\n",
       "        vertical-align: top;\n",
       "    }\n",
       "\n",
       "    .dataframe thead th {\n",
       "        text-align: right;\n",
       "    }\n",
       "</style>\n",
       "<table border=\"1\" class=\"dataframe\">\n",
       "  <thead>\n",
       "    <tr style=\"text-align: right;\">\n",
       "      <th></th>\n",
       "      <th>-3.0</th>\n",
       "      <th>2.0</th>\n",
       "      <th>3.0</th>\n",
       "      <th>5.0</th>\n",
       "    </tr>\n",
       "  </thead>\n",
       "  <tbody>\n",
       "    <tr>\n",
       "      <th>1.0</th>\n",
       "      <td>25</td>\n",
       "      <td>0</td>\n",
       "      <td>0</td>\n",
       "      <td>17</td>\n",
       "    </tr>\n",
       "    <tr>\n",
       "      <th>2.0</th>\n",
       "      <td>21</td>\n",
       "      <td>377</td>\n",
       "      <td>0</td>\n",
       "      <td>0</td>\n",
       "    </tr>\n",
       "    <tr>\n",
       "      <th>3.0</th>\n",
       "      <td>385</td>\n",
       "      <td>0</td>\n",
       "      <td>2859</td>\n",
       "      <td>0</td>\n",
       "    </tr>\n",
       "    <tr>\n",
       "      <th>5.0</th>\n",
       "      <td>1</td>\n",
       "      <td>0</td>\n",
       "      <td>0</td>\n",
       "      <td>1</td>\n",
       "    </tr>\n",
       "  </tbody>\n",
       "</table>\n",
       "</div>"
      ]
     },
     "execution_count": 556,
     "metadata": {},
     "output_type": "execute_result"
    }
   ],
   "execution_count": 556
  },
  {
   "metadata": {
    "ExecuteTime": {
     "end_time": "2024-11-18T19:50:31.302301Z",
     "start_time": "2024-11-18T19:50:31.287989Z"
    }
   },
   "cell_type": "code",
   "source": "format_confusion_matrix(labels_test[perturbed_indices_query].cpu(), interpret_query_perturbed)",
   "id": "6b311a29093abfd2",
   "outputs": [
    {
     "data": {
      "text/plain": [
       "     -1.0\n",
       "1.0    42\n",
       "2.0   398\n",
       "3.0  3244\n",
       "5.0     2"
      ],
      "text/html": [
       "<div>\n",
       "<style scoped>\n",
       "    .dataframe tbody tr th:only-of-type {\n",
       "        vertical-align: middle;\n",
       "    }\n",
       "\n",
       "    .dataframe tbody tr th {\n",
       "        vertical-align: top;\n",
       "    }\n",
       "\n",
       "    .dataframe thead th {\n",
       "        text-align: right;\n",
       "    }\n",
       "</style>\n",
       "<table border=\"1\" class=\"dataframe\">\n",
       "  <thead>\n",
       "    <tr style=\"text-align: right;\">\n",
       "      <th></th>\n",
       "      <th>-1.0</th>\n",
       "    </tr>\n",
       "  </thead>\n",
       "  <tbody>\n",
       "    <tr>\n",
       "      <th>1.0</th>\n",
       "      <td>42</td>\n",
       "    </tr>\n",
       "    <tr>\n",
       "      <th>2.0</th>\n",
       "      <td>398</td>\n",
       "    </tr>\n",
       "    <tr>\n",
       "      <th>3.0</th>\n",
       "      <td>3244</td>\n",
       "    </tr>\n",
       "    <tr>\n",
       "      <th>5.0</th>\n",
       "      <td>2</td>\n",
       "    </tr>\n",
       "  </tbody>\n",
       "</table>\n",
       "</div>"
      ]
     },
     "execution_count": 557,
     "metadata": {},
     "output_type": "execute_result"
    }
   ],
   "execution_count": 557
  },
  {
   "metadata": {
    "ExecuteTime": {
     "end_time": "2024-11-18T19:50:31.670597Z",
     "start_time": "2024-11-18T19:50:31.303537Z"
    }
   },
   "cell_type": "code",
   "source": [
    "interpret_query_perturbed_combined, interpret_query_perturbed_indices = get_combined(perturbed_collected, perturbed_indices)\n",
    "format_series(interpret_query_perturbed_combined)"
   ],
   "id": "3416eb967ea713e5",
   "outputs": [
    {
     "data": {
      "text/plain": [
       "-3.0     104\n",
       "-1.0    3561\n",
       " 2.0       1\n",
       " 3.0      84\n",
       " 5.0      14\n",
       "Name: count, dtype: int64"
      ]
     },
     "execution_count": 558,
     "metadata": {},
     "output_type": "execute_result"
    }
   ],
   "execution_count": 558
  },
  {
   "metadata": {
    "ExecuteTime": {
     "end_time": "2024-11-18T19:50:31.682236Z",
     "start_time": "2024-11-18T19:50:31.671464Z"
    }
   },
   "cell_type": "code",
   "source": "format_confusion_matrix(labels_test[interpret_query_perturbed_indices].cpu(), interpret_query_perturbed_combined)",
   "id": "f40656a35c5a6685",
   "outputs": [
    {
     "data": {
      "text/plain": [
       "     -3.0  -1.0   2.0   3.0   5.0\n",
       "1.0     0    49     0     0    10\n",
       "2.0     0   390     1     0     0\n",
       "3.0   104  3118     0    84     0\n",
       "5.0     0     4     0     0     4"
      ],
      "text/html": [
       "<div>\n",
       "<style scoped>\n",
       "    .dataframe tbody tr th:only-of-type {\n",
       "        vertical-align: middle;\n",
       "    }\n",
       "\n",
       "    .dataframe tbody tr th {\n",
       "        vertical-align: top;\n",
       "    }\n",
       "\n",
       "    .dataframe thead th {\n",
       "        text-align: right;\n",
       "    }\n",
       "</style>\n",
       "<table border=\"1\" class=\"dataframe\">\n",
       "  <thead>\n",
       "    <tr style=\"text-align: right;\">\n",
       "      <th></th>\n",
       "      <th>-3.0</th>\n",
       "      <th>-1.0</th>\n",
       "      <th>2.0</th>\n",
       "      <th>3.0</th>\n",
       "      <th>5.0</th>\n",
       "    </tr>\n",
       "  </thead>\n",
       "  <tbody>\n",
       "    <tr>\n",
       "      <th>1.0</th>\n",
       "      <td>0</td>\n",
       "      <td>49</td>\n",
       "      <td>0</td>\n",
       "      <td>0</td>\n",
       "      <td>10</td>\n",
       "    </tr>\n",
       "    <tr>\n",
       "      <th>2.0</th>\n",
       "      <td>0</td>\n",
       "      <td>390</td>\n",
       "      <td>1</td>\n",
       "      <td>0</td>\n",
       "      <td>0</td>\n",
       "    </tr>\n",
       "    <tr>\n",
       "      <th>3.0</th>\n",
       "      <td>104</td>\n",
       "      <td>3118</td>\n",
       "      <td>0</td>\n",
       "      <td>84</td>\n",
       "      <td>0</td>\n",
       "    </tr>\n",
       "    <tr>\n",
       "      <th>5.0</th>\n",
       "      <td>0</td>\n",
       "      <td>4</td>\n",
       "      <td>0</td>\n",
       "      <td>0</td>\n",
       "      <td>4</td>\n",
       "    </tr>\n",
       "  </tbody>\n",
       "</table>\n",
       "</div>"
      ]
     },
     "execution_count": 559,
     "metadata": {},
     "output_type": "execute_result"
    }
   ],
   "execution_count": 559
  },
  {
   "metadata": {},
   "cell_type": "markdown",
   "source": "# Shortcuts",
   "id": "74319fef1209b69e"
  },
  {
   "metadata": {},
   "cell_type": "markdown",
   "source": "### Without Attention Query",
   "id": "f1ca693d857fa067"
  },
  {
   "metadata": {
    "ExecuteTime": {
     "end_time": "2024-11-18T19:51:01.230823Z",
     "start_time": "2024-11-18T19:50:31.683149Z"
    }
   },
   "cell_type": "code",
   "source": [
    "perturbed_minimized = get_shortcuts_or_file(\n",
    "    perturbed_collected, \n",
    "    context_test[perturbed_indices], \n",
    "    events_test[perturbed_indices]\n",
    ")"
   ],
   "id": "c02f053c4b600123",
   "outputs": [
    {
     "name": "stderr",
     "output_type": "stream",
     "text": [
      "100%|██████████| 3115/3115 [00:29<00:00, 105.49it/s]\n"
     ]
    }
   ],
   "execution_count": 560
  },
  {
   "metadata": {
    "ExecuteTime": {
     "end_time": "2024-11-18T19:51:03.132795Z",
     "start_time": "2024-11-18T19:51:01.231783Z"
    }
   },
   "cell_type": "code",
   "source": "get_matrix_shortcuts(context_test[perturbed_indices], perturbed_minimized, perturbed_collected)",
   "id": "3fa418f6d57b5c4e",
   "outputs": [
    {
     "data": {
      "text/plain": [
       "     0   1  2  3  4  5  6  7  8  9\n",
       "0   44   0  0  0  0  0  0  0  0  0\n",
       "1  102   2  0  0  0  0  0  0  0  0\n",
       "2  234   6  2  0  0  0  0  0  0  0\n",
       "3  299   8  0  0  0  0  0  0  0  0\n",
       "4  364   9  2  1  0  0  0  0  0  0\n",
       "5  405  17  0  2  1  0  0  0  0  0\n",
       "6  377   3  0  0  0  0  1  0  0  0\n",
       "7  423   1  0  0  0  0  0  0  0  0\n",
       "8  377   1  0  0  1  1  0  0  0  0\n",
       "9  432   0  0  0  0  0  0  0  0  0"
      ],
      "text/html": [
       "<div>\n",
       "<style scoped>\n",
       "    .dataframe tbody tr th:only-of-type {\n",
       "        vertical-align: middle;\n",
       "    }\n",
       "\n",
       "    .dataframe tbody tr th {\n",
       "        vertical-align: top;\n",
       "    }\n",
       "\n",
       "    .dataframe thead th {\n",
       "        text-align: right;\n",
       "    }\n",
       "</style>\n",
       "<table border=\"1\" class=\"dataframe\">\n",
       "  <thead>\n",
       "    <tr style=\"text-align: right;\">\n",
       "      <th></th>\n",
       "      <th>0</th>\n",
       "      <th>1</th>\n",
       "      <th>2</th>\n",
       "      <th>3</th>\n",
       "      <th>4</th>\n",
       "      <th>5</th>\n",
       "      <th>6</th>\n",
       "      <th>7</th>\n",
       "      <th>8</th>\n",
       "      <th>9</th>\n",
       "    </tr>\n",
       "  </thead>\n",
       "  <tbody>\n",
       "    <tr>\n",
       "      <th>0</th>\n",
       "      <td>44</td>\n",
       "      <td>0</td>\n",
       "      <td>0</td>\n",
       "      <td>0</td>\n",
       "      <td>0</td>\n",
       "      <td>0</td>\n",
       "      <td>0</td>\n",
       "      <td>0</td>\n",
       "      <td>0</td>\n",
       "      <td>0</td>\n",
       "    </tr>\n",
       "    <tr>\n",
       "      <th>1</th>\n",
       "      <td>102</td>\n",
       "      <td>2</td>\n",
       "      <td>0</td>\n",
       "      <td>0</td>\n",
       "      <td>0</td>\n",
       "      <td>0</td>\n",
       "      <td>0</td>\n",
       "      <td>0</td>\n",
       "      <td>0</td>\n",
       "      <td>0</td>\n",
       "    </tr>\n",
       "    <tr>\n",
       "      <th>2</th>\n",
       "      <td>234</td>\n",
       "      <td>6</td>\n",
       "      <td>2</td>\n",
       "      <td>0</td>\n",
       "      <td>0</td>\n",
       "      <td>0</td>\n",
       "      <td>0</td>\n",
       "      <td>0</td>\n",
       "      <td>0</td>\n",
       "      <td>0</td>\n",
       "    </tr>\n",
       "    <tr>\n",
       "      <th>3</th>\n",
       "      <td>299</td>\n",
       "      <td>8</td>\n",
       "      <td>0</td>\n",
       "      <td>0</td>\n",
       "      <td>0</td>\n",
       "      <td>0</td>\n",
       "      <td>0</td>\n",
       "      <td>0</td>\n",
       "      <td>0</td>\n",
       "      <td>0</td>\n",
       "    </tr>\n",
       "    <tr>\n",
       "      <th>4</th>\n",
       "      <td>364</td>\n",
       "      <td>9</td>\n",
       "      <td>2</td>\n",
       "      <td>1</td>\n",
       "      <td>0</td>\n",
       "      <td>0</td>\n",
       "      <td>0</td>\n",
       "      <td>0</td>\n",
       "      <td>0</td>\n",
       "      <td>0</td>\n",
       "    </tr>\n",
       "    <tr>\n",
       "      <th>5</th>\n",
       "      <td>405</td>\n",
       "      <td>17</td>\n",
       "      <td>0</td>\n",
       "      <td>2</td>\n",
       "      <td>1</td>\n",
       "      <td>0</td>\n",
       "      <td>0</td>\n",
       "      <td>0</td>\n",
       "      <td>0</td>\n",
       "      <td>0</td>\n",
       "    </tr>\n",
       "    <tr>\n",
       "      <th>6</th>\n",
       "      <td>377</td>\n",
       "      <td>3</td>\n",
       "      <td>0</td>\n",
       "      <td>0</td>\n",
       "      <td>0</td>\n",
       "      <td>0</td>\n",
       "      <td>1</td>\n",
       "      <td>0</td>\n",
       "      <td>0</td>\n",
       "      <td>0</td>\n",
       "    </tr>\n",
       "    <tr>\n",
       "      <th>7</th>\n",
       "      <td>423</td>\n",
       "      <td>1</td>\n",
       "      <td>0</td>\n",
       "      <td>0</td>\n",
       "      <td>0</td>\n",
       "      <td>0</td>\n",
       "      <td>0</td>\n",
       "      <td>0</td>\n",
       "      <td>0</td>\n",
       "      <td>0</td>\n",
       "    </tr>\n",
       "    <tr>\n",
       "      <th>8</th>\n",
       "      <td>377</td>\n",
       "      <td>1</td>\n",
       "      <td>0</td>\n",
       "      <td>0</td>\n",
       "      <td>1</td>\n",
       "      <td>1</td>\n",
       "      <td>0</td>\n",
       "      <td>0</td>\n",
       "      <td>0</td>\n",
       "      <td>0</td>\n",
       "    </tr>\n",
       "    <tr>\n",
       "      <th>9</th>\n",
       "      <td>432</td>\n",
       "      <td>0</td>\n",
       "      <td>0</td>\n",
       "      <td>0</td>\n",
       "      <td>0</td>\n",
       "      <td>0</td>\n",
       "      <td>0</td>\n",
       "      <td>0</td>\n",
       "      <td>0</td>\n",
       "      <td>0</td>\n",
       "    </tr>\n",
       "  </tbody>\n",
       "</table>\n",
       "</div>"
      ]
     },
     "execution_count": 561,
     "metadata": {},
     "output_type": "execute_result"
    }
   ],
   "execution_count": 561
  },
  {
   "metadata": {
    "ExecuteTime": {
     "end_time": "2024-11-18T19:51:03.405031Z",
     "start_time": "2024-11-18T19:51:03.133741Z"
    }
   },
   "cell_type": "code",
   "source": [
    "print(\"Unique:\", len(get_unique_indices_per_row(perturbed_minimized)))\n",
    "res_perturbed_shortcuts = interpret(perturbed_minimized, events_test[perturbed_indices])\n",
    "format_series(res_perturbed_shortcuts)"
   ],
   "id": "49d4a4460e92260f",
   "outputs": [
    {
     "name": "stdout",
     "output_type": "stream",
     "text": [
      "Unique: 3087\n"
     ]
    },
    {
     "data": {
      "text/plain": [
       "-1.0    3115\n",
       "Name: count, dtype: int64"
      ]
     },
     "execution_count": 562,
     "metadata": {},
     "output_type": "execute_result"
    }
   ],
   "execution_count": 562
  },
  {
   "metadata": {
    "ExecuteTime": {
     "end_time": "2024-11-18T19:51:03.418024Z",
     "start_time": "2024-11-18T19:51:03.406003Z"
    }
   },
   "cell_type": "code",
   "source": "format_confusion_matrix(labels_test[perturbed_indices].cpu(), res_perturbed_shortcuts)",
   "id": "693068227b2cd425",
   "outputs": [
    {
     "data": {
      "text/plain": [
       "     -1.0\n",
       "1.0    35\n",
       "2.0   367\n",
       "3.0  2712\n",
       "5.0     1"
      ],
      "text/html": [
       "<div>\n",
       "<style scoped>\n",
       "    .dataframe tbody tr th:only-of-type {\n",
       "        vertical-align: middle;\n",
       "    }\n",
       "\n",
       "    .dataframe tbody tr th {\n",
       "        vertical-align: top;\n",
       "    }\n",
       "\n",
       "    .dataframe thead th {\n",
       "        text-align: right;\n",
       "    }\n",
       "</style>\n",
       "<table border=\"1\" class=\"dataframe\">\n",
       "  <thead>\n",
       "    <tr style=\"text-align: right;\">\n",
       "      <th></th>\n",
       "      <th>-1.0</th>\n",
       "    </tr>\n",
       "  </thead>\n",
       "  <tbody>\n",
       "    <tr>\n",
       "      <th>1.0</th>\n",
       "      <td>35</td>\n",
       "    </tr>\n",
       "    <tr>\n",
       "      <th>2.0</th>\n",
       "      <td>367</td>\n",
       "    </tr>\n",
       "    <tr>\n",
       "      <th>3.0</th>\n",
       "      <td>2712</td>\n",
       "    </tr>\n",
       "    <tr>\n",
       "      <th>5.0</th>\n",
       "      <td>1</td>\n",
       "    </tr>\n",
       "  </tbody>\n",
       "</table>\n",
       "</div>"
      ]
     },
     "execution_count": 563,
     "metadata": {},
     "output_type": "execute_result"
    }
   ],
   "execution_count": 563
  },
  {
   "metadata": {
    "ExecuteTime": {
     "end_time": "2024-11-18T19:51:03.811896Z",
     "start_time": "2024-11-18T19:51:03.419031Z"
    }
   },
   "cell_type": "code",
   "source": [
    "interpret_shortcuts_combined, interpret_shortcuts_indices = get_combined(perturbed_minimized, perturbed_indices)\n",
    "format_series(interpret_shortcuts_combined)"
   ],
   "id": "470009850f317626",
   "outputs": [
    {
     "data": {
      "text/plain": [
       "-3.0     104\n",
       "-1.0    4160\n",
       " 2.0       1\n",
       " 3.0      84\n",
       " 5.0      14\n",
       "Name: count, dtype: int64"
      ]
     },
     "execution_count": 564,
     "metadata": {},
     "output_type": "execute_result"
    }
   ],
   "execution_count": 564
  },
  {
   "metadata": {
    "ExecuteTime": {
     "end_time": "2024-11-18T19:51:03.827205Z",
     "start_time": "2024-11-18T19:51:03.815023Z"
    }
   },
   "cell_type": "code",
   "source": "format_confusion_matrix(labels_test[interpret_shortcuts_indices].cpu(), interpret_shortcuts_combined)",
   "id": "9c0870f42857e1e2",
   "outputs": [
    {
     "data": {
      "text/plain": [
       "     -3.0  -1.0   2.0   3.0   5.0\n",
       "1.0     0    55     0     0    10\n",
       "2.0     0   447     1     0     0\n",
       "3.0   104  3653     0    84     0\n",
       "5.0     0     5     0     0     4"
      ],
      "text/html": [
       "<div>\n",
       "<style scoped>\n",
       "    .dataframe tbody tr th:only-of-type {\n",
       "        vertical-align: middle;\n",
       "    }\n",
       "\n",
       "    .dataframe tbody tr th {\n",
       "        vertical-align: top;\n",
       "    }\n",
       "\n",
       "    .dataframe thead th {\n",
       "        text-align: right;\n",
       "    }\n",
       "</style>\n",
       "<table border=\"1\" class=\"dataframe\">\n",
       "  <thead>\n",
       "    <tr style=\"text-align: right;\">\n",
       "      <th></th>\n",
       "      <th>-3.0</th>\n",
       "      <th>-1.0</th>\n",
       "      <th>2.0</th>\n",
       "      <th>3.0</th>\n",
       "      <th>5.0</th>\n",
       "    </tr>\n",
       "  </thead>\n",
       "  <tbody>\n",
       "    <tr>\n",
       "      <th>1.0</th>\n",
       "      <td>0</td>\n",
       "      <td>55</td>\n",
       "      <td>0</td>\n",
       "      <td>0</td>\n",
       "      <td>10</td>\n",
       "    </tr>\n",
       "    <tr>\n",
       "      <th>2.0</th>\n",
       "      <td>0</td>\n",
       "      <td>447</td>\n",
       "      <td>1</td>\n",
       "      <td>0</td>\n",
       "      <td>0</td>\n",
       "    </tr>\n",
       "    <tr>\n",
       "      <th>3.0</th>\n",
       "      <td>104</td>\n",
       "      <td>3653</td>\n",
       "      <td>0</td>\n",
       "      <td>84</td>\n",
       "      <td>0</td>\n",
       "    </tr>\n",
       "    <tr>\n",
       "      <th>5.0</th>\n",
       "      <td>0</td>\n",
       "      <td>5</td>\n",
       "      <td>0</td>\n",
       "      <td>0</td>\n",
       "      <td>4</td>\n",
       "    </tr>\n",
       "  </tbody>\n",
       "</table>\n",
       "</div>"
      ]
     },
     "execution_count": 565,
     "metadata": {},
     "output_type": "execute_result"
    }
   ],
   "execution_count": 565
  },
  {
   "metadata": {},
   "cell_type": "markdown",
   "source": "### Applying No Attention Query Data to Attention Query",
   "id": "3a6a8c69ecacb2e"
  },
  {
   "metadata": {
    "ExecuteTime": {
     "end_time": "2024-11-18T19:51:04.801722Z",
     "start_time": "2024-11-18T19:51:03.828254Z"
    }
   },
   "cell_type": "code",
   "source": [
    "print(\"Unique:\", len(get_unique_indices_per_row(perturbed_minimized)))\n",
    "res_perturbed_shortcuts_1 = interpret_query(perturbed_minimized, events_test[perturbed_indices])\n",
    "format_series(res_perturbed_shortcuts_1)"
   ],
   "id": "d28465dda52f40ba",
   "outputs": [
    {
     "name": "stdout",
     "output_type": "stream",
     "text": [
      "Unique: 3087\n"
     ]
    },
    {
     "data": {
      "text/plain": [
       "-3.0    1454\n",
       "-1.0     418\n",
       " 2.0     198\n",
       " 3.0    1039\n",
       " 5.0       6\n",
       "Name: count, dtype: int64"
      ]
     },
     "execution_count": 566,
     "metadata": {},
     "output_type": "execute_result"
    }
   ],
   "execution_count": 566
  },
  {
   "metadata": {
    "ExecuteTime": {
     "end_time": "2024-11-18T19:51:04.813028Z",
     "start_time": "2024-11-18T19:51:04.802651Z"
    }
   },
   "cell_type": "code",
   "source": "format_confusion_matrix(labels_test[perturbed_indices].cpu(), res_perturbed_shortcuts_1)",
   "id": "3d0eb62a96398337",
   "outputs": [
    {
     "data": {
      "text/plain": [
       "     -3.0  -1.0   2.0   3.0   5.0\n",
       "1.0    29     0     0     0     6\n",
       "2.0   112    57   198     0     0\n",
       "3.0  1312   361     0  1039     0\n",
       "5.0     1     0     0     0     0"
      ],
      "text/html": [
       "<div>\n",
       "<style scoped>\n",
       "    .dataframe tbody tr th:only-of-type {\n",
       "        vertical-align: middle;\n",
       "    }\n",
       "\n",
       "    .dataframe tbody tr th {\n",
       "        vertical-align: top;\n",
       "    }\n",
       "\n",
       "    .dataframe thead th {\n",
       "        text-align: right;\n",
       "    }\n",
       "</style>\n",
       "<table border=\"1\" class=\"dataframe\">\n",
       "  <thead>\n",
       "    <tr style=\"text-align: right;\">\n",
       "      <th></th>\n",
       "      <th>-3.0</th>\n",
       "      <th>-1.0</th>\n",
       "      <th>2.0</th>\n",
       "      <th>3.0</th>\n",
       "      <th>5.0</th>\n",
       "    </tr>\n",
       "  </thead>\n",
       "  <tbody>\n",
       "    <tr>\n",
       "      <th>1.0</th>\n",
       "      <td>29</td>\n",
       "      <td>0</td>\n",
       "      <td>0</td>\n",
       "      <td>0</td>\n",
       "      <td>6</td>\n",
       "    </tr>\n",
       "    <tr>\n",
       "      <th>2.0</th>\n",
       "      <td>112</td>\n",
       "      <td>57</td>\n",
       "      <td>198</td>\n",
       "      <td>0</td>\n",
       "      <td>0</td>\n",
       "    </tr>\n",
       "    <tr>\n",
       "      <th>3.0</th>\n",
       "      <td>1312</td>\n",
       "      <td>361</td>\n",
       "      <td>0</td>\n",
       "      <td>1039</td>\n",
       "      <td>0</td>\n",
       "    </tr>\n",
       "    <tr>\n",
       "      <th>5.0</th>\n",
       "      <td>1</td>\n",
       "      <td>0</td>\n",
       "      <td>0</td>\n",
       "      <td>0</td>\n",
       "      <td>0</td>\n",
       "    </tr>\n",
       "  </tbody>\n",
       "</table>\n",
       "</div>"
      ]
     },
     "execution_count": 567,
     "metadata": {},
     "output_type": "execute_result"
    }
   ],
   "execution_count": 567
  },
  {
   "metadata": {
    "ExecuteTime": {
     "end_time": "2024-11-18T19:51:06.240192Z",
     "start_time": "2024-11-18T19:51:04.813995Z"
    }
   },
   "cell_type": "code",
   "source": [
    "interpret_shortcuts_combined_1, interpret_shortcuts_indices_1 = get_combined(perturbed_minimized, perturbed_indices, attention_query=True)\n",
    "format_series(interpret_shortcuts_combined_1)"
   ],
   "id": "f2058bedaaf293ce",
   "outputs": [
    {
     "data": {
      "text/plain": [
       "-3.0    1683\n",
       "-1.0     895\n",
       " 2.0     215\n",
       " 3.0    1550\n",
       " 5.0      20\n",
       "Name: count, dtype: int64"
      ]
     },
     "execution_count": 568,
     "metadata": {},
     "output_type": "execute_result"
    }
   ],
   "execution_count": 568
  },
  {
   "metadata": {
    "ExecuteTime": {
     "end_time": "2024-11-18T19:51:06.254637Z",
     "start_time": "2024-11-18T19:51:06.242364Z"
    }
   },
   "cell_type": "code",
   "source": "format_confusion_matrix(labels_test[interpret_shortcuts_indices_1].cpu(), interpret_shortcuts_combined_1)",
   "id": "da8f752ac0f4c2fd",
   "outputs": [
    {
     "data": {
      "text/plain": [
       "     -3.0  -1.0   2.0   3.0   5.0\n",
       "1.0    36    13     0     0    16\n",
       "2.0   126   107   215     0     0\n",
       "3.0  1519   772     0  1550     0\n",
       "5.0     2     3     0     0     4"
      ],
      "text/html": [
       "<div>\n",
       "<style scoped>\n",
       "    .dataframe tbody tr th:only-of-type {\n",
       "        vertical-align: middle;\n",
       "    }\n",
       "\n",
       "    .dataframe tbody tr th {\n",
       "        vertical-align: top;\n",
       "    }\n",
       "\n",
       "    .dataframe thead th {\n",
       "        text-align: right;\n",
       "    }\n",
       "</style>\n",
       "<table border=\"1\" class=\"dataframe\">\n",
       "  <thead>\n",
       "    <tr style=\"text-align: right;\">\n",
       "      <th></th>\n",
       "      <th>-3.0</th>\n",
       "      <th>-1.0</th>\n",
       "      <th>2.0</th>\n",
       "      <th>3.0</th>\n",
       "      <th>5.0</th>\n",
       "    </tr>\n",
       "  </thead>\n",
       "  <tbody>\n",
       "    <tr>\n",
       "      <th>1.0</th>\n",
       "      <td>36</td>\n",
       "      <td>13</td>\n",
       "      <td>0</td>\n",
       "      <td>0</td>\n",
       "      <td>16</td>\n",
       "    </tr>\n",
       "    <tr>\n",
       "      <th>2.0</th>\n",
       "      <td>126</td>\n",
       "      <td>107</td>\n",
       "      <td>215</td>\n",
       "      <td>0</td>\n",
       "      <td>0</td>\n",
       "    </tr>\n",
       "    <tr>\n",
       "      <th>3.0</th>\n",
       "      <td>1519</td>\n",
       "      <td>772</td>\n",
       "      <td>0</td>\n",
       "      <td>1550</td>\n",
       "      <td>0</td>\n",
       "    </tr>\n",
       "    <tr>\n",
       "      <th>5.0</th>\n",
       "      <td>2</td>\n",
       "      <td>3</td>\n",
       "      <td>0</td>\n",
       "      <td>0</td>\n",
       "      <td>4</td>\n",
       "    </tr>\n",
       "  </tbody>\n",
       "</table>\n",
       "</div>"
      ]
     },
     "execution_count": 569,
     "metadata": {},
     "output_type": "execute_result"
    }
   ],
   "execution_count": 569
  },
  {
   "metadata": {},
   "cell_type": "markdown",
   "source": "### Attention Query",
   "id": "3e60e74bb6b58b2f"
  },
  {
   "metadata": {
    "ExecuteTime": {
     "end_time": "2024-11-18T19:54:05.857432Z",
     "start_time": "2024-11-18T19:51:06.255494Z"
    }
   },
   "cell_type": "code",
   "source": [
    "perturbed_minimized_query = get_shortcuts_or_file(\n",
    "    perturbed_collected_query,\n",
    "    context_test[perturbed_indices_query], \n",
    "    events_test[perturbed_indices_query],\n",
    "    attention_query=True\n",
    ")"
   ],
   "id": "1aae9ea5669d056c",
   "outputs": [
    {
     "name": "stderr",
     "output_type": "stream",
     "text": [
      "100%|██████████| 3686/3686 [02:59<00:00, 20.53it/s]\n"
     ]
    }
   ],
   "execution_count": 570
  },
  {
   "metadata": {
    "ExecuteTime": {
     "end_time": "2024-11-18T19:54:08.112003Z",
     "start_time": "2024-11-18T19:54:05.858724Z"
    }
   },
   "cell_type": "code",
   "source": "get_matrix_shortcuts(context_test[perturbed_indices_query], perturbed_minimized_query, perturbed_collected_query)",
   "id": "6dfd91b04a66445a",
   "outputs": [
    {
     "data": {
      "text/plain": [
       "     0   1  2  3  4  5  6  7  8  9\n",
       "0   68   0  0  0  0  0  0  0  0  0\n",
       "1  168   0  0  0  0  0  0  0  0  0\n",
       "2  253   5  0  0  0  0  0  0  0  0\n",
       "3  373   8  0  0  0  0  0  0  0  0\n",
       "4  389   9  1  0  0  0  0  0  0  0\n",
       "5  450  17  0  0  0  0  0  0  0  0\n",
       "6  420   3  0  0  0  0  0  0  0  0\n",
       "7  494   1  0  0  0  0  0  0  0  0\n",
       "8  424   1  0  0  0  0  0  0  0  0\n",
       "9  602   0  0  0  0  0  0  0  0  0"
      ],
      "text/html": [
       "<div>\n",
       "<style scoped>\n",
       "    .dataframe tbody tr th:only-of-type {\n",
       "        vertical-align: middle;\n",
       "    }\n",
       "\n",
       "    .dataframe tbody tr th {\n",
       "        vertical-align: top;\n",
       "    }\n",
       "\n",
       "    .dataframe thead th {\n",
       "        text-align: right;\n",
       "    }\n",
       "</style>\n",
       "<table border=\"1\" class=\"dataframe\">\n",
       "  <thead>\n",
       "    <tr style=\"text-align: right;\">\n",
       "      <th></th>\n",
       "      <th>0</th>\n",
       "      <th>1</th>\n",
       "      <th>2</th>\n",
       "      <th>3</th>\n",
       "      <th>4</th>\n",
       "      <th>5</th>\n",
       "      <th>6</th>\n",
       "      <th>7</th>\n",
       "      <th>8</th>\n",
       "      <th>9</th>\n",
       "    </tr>\n",
       "  </thead>\n",
       "  <tbody>\n",
       "    <tr>\n",
       "      <th>0</th>\n",
       "      <td>68</td>\n",
       "      <td>0</td>\n",
       "      <td>0</td>\n",
       "      <td>0</td>\n",
       "      <td>0</td>\n",
       "      <td>0</td>\n",
       "      <td>0</td>\n",
       "      <td>0</td>\n",
       "      <td>0</td>\n",
       "      <td>0</td>\n",
       "    </tr>\n",
       "    <tr>\n",
       "      <th>1</th>\n",
       "      <td>168</td>\n",
       "      <td>0</td>\n",
       "      <td>0</td>\n",
       "      <td>0</td>\n",
       "      <td>0</td>\n",
       "      <td>0</td>\n",
       "      <td>0</td>\n",
       "      <td>0</td>\n",
       "      <td>0</td>\n",
       "      <td>0</td>\n",
       "    </tr>\n",
       "    <tr>\n",
       "      <th>2</th>\n",
       "      <td>253</td>\n",
       "      <td>5</td>\n",
       "      <td>0</td>\n",
       "      <td>0</td>\n",
       "      <td>0</td>\n",
       "      <td>0</td>\n",
       "      <td>0</td>\n",
       "      <td>0</td>\n",
       "      <td>0</td>\n",
       "      <td>0</td>\n",
       "    </tr>\n",
       "    <tr>\n",
       "      <th>3</th>\n",
       "      <td>373</td>\n",
       "      <td>8</td>\n",
       "      <td>0</td>\n",
       "      <td>0</td>\n",
       "      <td>0</td>\n",
       "      <td>0</td>\n",
       "      <td>0</td>\n",
       "      <td>0</td>\n",
       "      <td>0</td>\n",
       "      <td>0</td>\n",
       "    </tr>\n",
       "    <tr>\n",
       "      <th>4</th>\n",
       "      <td>389</td>\n",
       "      <td>9</td>\n",
       "      <td>1</td>\n",
       "      <td>0</td>\n",
       "      <td>0</td>\n",
       "      <td>0</td>\n",
       "      <td>0</td>\n",
       "      <td>0</td>\n",
       "      <td>0</td>\n",
       "      <td>0</td>\n",
       "    </tr>\n",
       "    <tr>\n",
       "      <th>5</th>\n",
       "      <td>450</td>\n",
       "      <td>17</td>\n",
       "      <td>0</td>\n",
       "      <td>0</td>\n",
       "      <td>0</td>\n",
       "      <td>0</td>\n",
       "      <td>0</td>\n",
       "      <td>0</td>\n",
       "      <td>0</td>\n",
       "      <td>0</td>\n",
       "    </tr>\n",
       "    <tr>\n",
       "      <th>6</th>\n",
       "      <td>420</td>\n",
       "      <td>3</td>\n",
       "      <td>0</td>\n",
       "      <td>0</td>\n",
       "      <td>0</td>\n",
       "      <td>0</td>\n",
       "      <td>0</td>\n",
       "      <td>0</td>\n",
       "      <td>0</td>\n",
       "      <td>0</td>\n",
       "    </tr>\n",
       "    <tr>\n",
       "      <th>7</th>\n",
       "      <td>494</td>\n",
       "      <td>1</td>\n",
       "      <td>0</td>\n",
       "      <td>0</td>\n",
       "      <td>0</td>\n",
       "      <td>0</td>\n",
       "      <td>0</td>\n",
       "      <td>0</td>\n",
       "      <td>0</td>\n",
       "      <td>0</td>\n",
       "    </tr>\n",
       "    <tr>\n",
       "      <th>8</th>\n",
       "      <td>424</td>\n",
       "      <td>1</td>\n",
       "      <td>0</td>\n",
       "      <td>0</td>\n",
       "      <td>0</td>\n",
       "      <td>0</td>\n",
       "      <td>0</td>\n",
       "      <td>0</td>\n",
       "      <td>0</td>\n",
       "      <td>0</td>\n",
       "    </tr>\n",
       "    <tr>\n",
       "      <th>9</th>\n",
       "      <td>602</td>\n",
       "      <td>0</td>\n",
       "      <td>0</td>\n",
       "      <td>0</td>\n",
       "      <td>0</td>\n",
       "      <td>0</td>\n",
       "      <td>0</td>\n",
       "      <td>0</td>\n",
       "      <td>0</td>\n",
       "      <td>0</td>\n",
       "    </tr>\n",
       "  </tbody>\n",
       "</table>\n",
       "</div>"
      ]
     },
     "execution_count": 571,
     "metadata": {},
     "output_type": "execute_result"
    }
   ],
   "execution_count": 571
  },
  {
   "metadata": {
    "ExecuteTime": {
     "end_time": "2024-11-18T19:54:09.530720Z",
     "start_time": "2024-11-18T19:54:08.113036Z"
    }
   },
   "cell_type": "code",
   "source": [
    "print(\"Unique:\", len(get_unique_indices_per_row(perturbed_minimized_query)))\n",
    "res_perturbed_shortcuts_query = interpret_query(perturbed_minimized_query, events_test[perturbed_indices_query])\n",
    "format_series(res_perturbed_shortcuts_query)"
   ],
   "id": "6e81461aaca6aff2",
   "outputs": [
    {
     "name": "stdout",
     "output_type": "stream",
     "text": [
      "Unique: 3656\n"
     ]
    },
    {
     "data": {
      "text/plain": [
       "-3.0    1641\n",
       "-1.0     468\n",
       " 2.0     216\n",
       " 3.0    1355\n",
       " 5.0       6\n",
       "Name: count, dtype: int64"
      ]
     },
     "execution_count": 572,
     "metadata": {},
     "output_type": "execute_result"
    }
   ],
   "execution_count": 572
  },
  {
   "metadata": {
    "ExecuteTime": {
     "end_time": "2024-11-18T19:54:09.542438Z",
     "start_time": "2024-11-18T19:54:09.531818Z"
    }
   },
   "cell_type": "code",
   "source": "format_confusion_matrix(labels_test[perturbed_indices_query].cpu(), res_perturbed_shortcuts_query)",
   "id": "a54863531ff990d5",
   "outputs": [
    {
     "data": {
      "text/plain": [
       "     -3.0  -1.0   2.0   3.0   5.0\n",
       "1.0    36     0     0     0     6\n",
       "2.0   122    60   216     0     0\n",
       "3.0  1481   408     0  1355     0\n",
       "5.0     2     0     0     0     0"
      ],
      "text/html": [
       "<div>\n",
       "<style scoped>\n",
       "    .dataframe tbody tr th:only-of-type {\n",
       "        vertical-align: middle;\n",
       "    }\n",
       "\n",
       "    .dataframe tbody tr th {\n",
       "        vertical-align: top;\n",
       "    }\n",
       "\n",
       "    .dataframe thead th {\n",
       "        text-align: right;\n",
       "    }\n",
       "</style>\n",
       "<table border=\"1\" class=\"dataframe\">\n",
       "  <thead>\n",
       "    <tr style=\"text-align: right;\">\n",
       "      <th></th>\n",
       "      <th>-3.0</th>\n",
       "      <th>-1.0</th>\n",
       "      <th>2.0</th>\n",
       "      <th>3.0</th>\n",
       "      <th>5.0</th>\n",
       "    </tr>\n",
       "  </thead>\n",
       "  <tbody>\n",
       "    <tr>\n",
       "      <th>1.0</th>\n",
       "      <td>36</td>\n",
       "      <td>0</td>\n",
       "      <td>0</td>\n",
       "      <td>0</td>\n",
       "      <td>6</td>\n",
       "    </tr>\n",
       "    <tr>\n",
       "      <th>2.0</th>\n",
       "      <td>122</td>\n",
       "      <td>60</td>\n",
       "      <td>216</td>\n",
       "      <td>0</td>\n",
       "      <td>0</td>\n",
       "    </tr>\n",
       "    <tr>\n",
       "      <th>3.0</th>\n",
       "      <td>1481</td>\n",
       "      <td>408</td>\n",
       "      <td>0</td>\n",
       "      <td>1355</td>\n",
       "      <td>0</td>\n",
       "    </tr>\n",
       "    <tr>\n",
       "      <th>5.0</th>\n",
       "      <td>2</td>\n",
       "      <td>0</td>\n",
       "      <td>0</td>\n",
       "      <td>0</td>\n",
       "      <td>0</td>\n",
       "    </tr>\n",
       "  </tbody>\n",
       "</table>\n",
       "</div>"
      ]
     },
     "execution_count": 573,
     "metadata": {},
     "output_type": "execute_result"
    }
   ],
   "execution_count": 573
  },
  {
   "metadata": {
    "ExecuteTime": {
     "end_time": "2024-11-18T19:54:09.916402Z",
     "start_time": "2024-11-18T19:54:09.543336Z"
    }
   },
   "cell_type": "code",
   "source": [
    "interpret_query_shortcuts_combined_query, interpret_query_shortcuts_indices_query = get_combined(perturbed_minimized_query, perturbed_indices_query)\n",
    "format_series(interpret_query_shortcuts_combined_query)"
   ],
   "id": "70f00f41b82b98a9",
   "outputs": [
    {
     "data": {
      "text/plain": [
       "-3.0     106\n",
       "-1.0    4156\n",
       " 2.0       1\n",
       " 3.0      84\n",
       " 5.0      14\n",
       "Name: count, dtype: int64"
      ]
     },
     "execution_count": 574,
     "metadata": {},
     "output_type": "execute_result"
    }
   ],
   "execution_count": 574
  },
  {
   "metadata": {
    "ExecuteTime": {
     "end_time": "2024-11-18T19:54:09.929495Z",
     "start_time": "2024-11-18T19:54:09.917413Z"
    }
   },
   "cell_type": "code",
   "source": "format_confusion_matrix(labels_test[interpret_query_shortcuts_indices_query].cpu(), interpret_query_shortcuts_combined_query)",
   "id": "3b989efc5a70112c",
   "outputs": [
    {
     "data": {
      "text/plain": [
       "     -3.0  -1.0   2.0   3.0   5.0\n",
       "1.0     0    55     0     0    10\n",
       "2.0     0   447     1     0     0\n",
       "3.0   106  3649     0    84     0\n",
       "5.0     0     5     0     0     4"
      ],
      "text/html": [
       "<div>\n",
       "<style scoped>\n",
       "    .dataframe tbody tr th:only-of-type {\n",
       "        vertical-align: middle;\n",
       "    }\n",
       "\n",
       "    .dataframe tbody tr th {\n",
       "        vertical-align: top;\n",
       "    }\n",
       "\n",
       "    .dataframe thead th {\n",
       "        text-align: right;\n",
       "    }\n",
       "</style>\n",
       "<table border=\"1\" class=\"dataframe\">\n",
       "  <thead>\n",
       "    <tr style=\"text-align: right;\">\n",
       "      <th></th>\n",
       "      <th>-3.0</th>\n",
       "      <th>-1.0</th>\n",
       "      <th>2.0</th>\n",
       "      <th>3.0</th>\n",
       "      <th>5.0</th>\n",
       "    </tr>\n",
       "  </thead>\n",
       "  <tbody>\n",
       "    <tr>\n",
       "      <th>1.0</th>\n",
       "      <td>0</td>\n",
       "      <td>55</td>\n",
       "      <td>0</td>\n",
       "      <td>0</td>\n",
       "      <td>10</td>\n",
       "    </tr>\n",
       "    <tr>\n",
       "      <th>2.0</th>\n",
       "      <td>0</td>\n",
       "      <td>447</td>\n",
       "      <td>1</td>\n",
       "      <td>0</td>\n",
       "      <td>0</td>\n",
       "    </tr>\n",
       "    <tr>\n",
       "      <th>3.0</th>\n",
       "      <td>106</td>\n",
       "      <td>3649</td>\n",
       "      <td>0</td>\n",
       "      <td>84</td>\n",
       "      <td>0</td>\n",
       "    </tr>\n",
       "    <tr>\n",
       "      <th>5.0</th>\n",
       "      <td>0</td>\n",
       "      <td>5</td>\n",
       "      <td>0</td>\n",
       "      <td>0</td>\n",
       "      <td>4</td>\n",
       "    </tr>\n",
       "  </tbody>\n",
       "</table>\n",
       "</div>"
      ]
     },
     "execution_count": 575,
     "metadata": {},
     "output_type": "execute_result"
    }
   ],
   "execution_count": 575
  },
  {
   "metadata": {
    "ExecuteTime": {
     "end_time": "2024-11-18T19:54:09.932777Z",
     "start_time": "2024-11-18T19:54:09.930510Z"
    }
   },
   "cell_type": "code",
   "source": "# show_clusters(context_test, events_test)",
   "id": "212a9376d02c1f00",
   "outputs": [],
   "execution_count": 576
  }
 ],
 "metadata": {
  "kernelspec": {
   "display_name": "Python 3",
   "language": "python",
   "name": "python3"
  },
  "language_info": {
   "codemirror_mode": {
    "name": "ipython",
    "version": 2
   },
   "file_extension": ".py",
   "mimetype": "text/x-python",
   "name": "python",
   "nbconvert_exporter": "python",
   "pygments_lexer": "ipython2",
   "version": "2.7.6"
  }
 },
 "nbformat": 4,
 "nbformat_minor": 5
}
