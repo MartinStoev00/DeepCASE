{
 "cells": [
  {
   "metadata": {
    "ExecuteTime": {
     "end_time": "2024-11-05T17:24:54.544512Z",
     "start_time": "2024-11-05T17:24:54.200363Z"
    }
   },
   "cell_type": "code",
   "source": [
    "import os\n",
    "import torch\n",
    "import itertools\n",
    "import numpy as np\n",
    "import pandas as pd\n",
    "from tqdm import tqdm\n",
    "from deepcase_copy.context_builder.loss import LabelSmoothing\n",
    "from deepcase_copy.context_builder.context_builder import ContextBuilder\n",
    "from deepcase_copy.interpreter.interpreter import Interpreter\n",
    "from deepcase_copy.interpreter.utils import group_by, sp_unique\n",
    "from sklearn.model_selection import train_test_split\n",
    "from sklearn.metrics import confusion_matrix\n",
    "\n",
    "def disable_dropout(m):\n",
    "    if isinstance(m, torch.nn.Dropout):\n",
    "        m.p = 0.0 \n",
    "\n",
    "def to_cuda(item):\n",
    "    if torch.cuda.is_available():\n",
    "        return item.to('cuda')\n",
    "    return item\n",
    "\n",
    "def get_unique_indices_per_row(tensor):\n",
    "    indices_list = []\n",
    "    row_list = []\n",
    "    indices_list_set = set()\n",
    "    for row in range(len(tensor)):\n",
    "        curr = tuple(tensor[row])\n",
    "        if isinstance(tensor, torch.Tensor):\n",
    "            curr = tuple(tensor[row].tolist())\n",
    "        if curr in indices_list_set:\n",
    "            continue\n",
    "        row_list.append(curr)\n",
    "        indices_list.append(row)\n",
    "        indices_list_set.add(curr)\n",
    "    return indices_list\n",
    "\n",
    "def get_unique_indices_per_row_or_file(tensor, f_name):\n",
    "    if os.path.exists(f_name):\n",
    "        return torch.load(f_name)\n",
    "    t = get_unique_indices_per_row(tensor)\n",
    "    torch.save(t, f_name)\n",
    "    return t  \n",
    "\n",
    "ALPHA=1.0\n",
    "EPSILON=0.5\n",
    "MAX_ITER = 100\n",
    "PREDICT_THRESHOLD = 0.2\n",
    "builder = to_cuda(ContextBuilder.load('save/builder.save'))\n",
    "builder.apply(disable_dropout)\n",
    "interpreter = Interpreter.load('save/interpreter.save', builder)\n",
    "criterion = LabelSmoothing(builder.decoder_event.out.out_features, 0.1)\n",
    "\n",
    "with open('save/sequences.save', 'rb') as infile:\n",
    "    data = torch.load(infile)\n",
    "    context = data[\"context\"] # 172572\n",
    "    events  = data[\"events\"]\n",
    "    labels  = data[\"labels\"]\n",
    "    \n",
    "    indices = get_unique_indices_per_row_or_file(context, 'save/context.pt')    \n",
    "    train_indices, test_indices = train_test_split(indices, test_size=0.2, random_state=42, stratify=labels[indices])\n",
    "    \n",
    "    context_train = to_cuda(context[train_indices]) #\n",
    "    context_test  = to_cuda(context[test_indices])  # 4392\n",
    "    \n",
    "    events_train  = to_cuda(events[train_indices])\n",
    "    events_test   = to_cuda(events[test_indices])\n",
    "    \n",
    "    labels_train  = to_cuda(labels[train_indices])\n",
    "    labels_test   = to_cuda(labels[test_indices])\n",
    "\n",
    "def to_one_hot(t):\n",
    "    return builder.embedding_one_hot(t)\n",
    "\n",
    "def max_to_one(tensor):\n",
    "    max_indices = torch.argmax(tensor, dim=-1, keepdim=True)\n",
    "    result = torch.zeros_like(tensor)\n",
    "    result.scatter_(-1, max_indices, 1.0)\n",
    "    return result\n",
    "\n",
    "def to_output(context_chosen):\n",
    "    return builder.predict(to_cuda(to_one_hot(context_chosen)))\n",
    "\n",
    "def get_perturbation_change(trace, original):\n",
    "    a = original - EPSILON\n",
    "    b = (trace >= a).float() * trace + (trace < a).float() * a\n",
    "    c = (b > original + EPSILON).float() * (original + EPSILON) + (b <= original + EPSILON).float() * b\n",
    "    return max_to_one(c)\n",
    "\n",
    "def get_performance(output, num):\n",
    "    results_picked = torch.topk(output[0][0][0], len(output[0][0][0]))\n",
    "    exp = results_picked.values.exp()\n",
    "    res_indices = results_picked.indices\n",
    "    for j in range(len(output[0][0][0])):\n",
    "        if res_indices[j].item() == num:\n",
    "            return exp[j] < PREDICT_THRESHOLD\n",
    "    return False\n",
    "\n",
    "def get_changes_list(start, final):\n",
    "    perturbations_made = []\n",
    "    for i, (s, f) in enumerate(zip(start, final)):\n",
    "        if s != f:\n",
    "            perturbations_made.append((i, f.item()))\n",
    "    return perturbations_made\n",
    "\n",
    "def get_iter_count(context_given, target_given):\n",
    "    for current_trace_num in range(len(context_given)):\n",
    "        con, e = context_given[current_trace_num], target_given.unsqueeze(1)[current_trace_num]\n",
    "        con.resize_(1, con.size()[-1])\n",
    "        for i in range(MAX_ITER):\n",
    "            new_context = bim_no_iter(con, e, i)\n",
    "            if con[0].tolist() != new_context.tolist():\n",
    "                return i\n",
    "    return -1\n",
    "\n",
    "def get_perturbations(context_chosen, event_chosen):\n",
    "    perturbed_collected_main = []\n",
    "    perturbed_indices_main = []\n",
    "    pred_true, pred_false = get_correct_prediction_for_list(context_chosen, event_chosen, iterations=0)\n",
    "    states = [len(pred_false), 0, 0]\n",
    "    for current_trace_num in tqdm(range(len(context_chosen))):\n",
    "        con, e = context_chosen[current_trace_num], event_chosen.unsqueeze(1)[current_trace_num]\n",
    "        con.resize_(1, con.size()[-1])\n",
    "        if get_performance(to_output(con), e[0]):\n",
    "            states[0] += 1\n",
    "        else:\n",
    "            perturbed_result = bim_attack(con, e)\n",
    "            if perturbed_result is not None:\n",
    "                states[1] += 1\n",
    "                perturbed_collected_main.append(perturbed_result[0])\n",
    "                perturbed_indices_main.append(current_trace_num)\n",
    "            else:\n",
    "                states[2] += 1\n",
    "    return to_cuda(torch.tensor(perturbed_collected_main)), to_cuda(torch.tensor(perturbed_indices_main)), to_cuda(torch.tensor(states))\n",
    "\n",
    "def get_perturbations_or_file(context_chosen, event_chosen):\n",
    "    f_name_perturbed = f\"perturbed/collected/{ALPHA=}, {EPSILON=}.pt\"\n",
    "    f_name_indices = f\"perturbed/indices/{ALPHA=}, {EPSILON=}.pt\"\n",
    "    f_name_distribution = f\"perturbed/distribution/{ALPHA=}, {EPSILON=}.pt\"\n",
    "    if os.path.exists(f_name_perturbed) and os.path.exists(f_name_indices) and os.path.exists(f_name_distribution):\n",
    "        print(f\"Loading {f_name_perturbed}\")\n",
    "        print(f\"Loading {f_name_indices}\")\n",
    "        print(f\"Loading {f_name_distribution}\")\n",
    "        print(torch.load(f_name_distribution))\n",
    "        return torch.load(f_name_perturbed), torch.load(f_name_indices), torch.load(f_name_distribution)\n",
    "    perturb_main, indices_main, result_main = get_perturbations(context_chosen, event_chosen)\n",
    "    torch.save(perturb_main, f_name_perturbed)\n",
    "    torch.save(indices_main, f_name_indices)\n",
    "    torch.save(result_main, f_name_distribution)\n",
    "    print(result_main)\n",
    "    return perturb_main, indices_main, result_main\n",
    "\n",
    "def get_possible_combinations(perturbations_made):\n",
    "    subsets = []\n",
    "    for r_index in range(1, len(perturbations_made)):\n",
    "        subsets.extend(itertools.combinations(perturbations_made, r_index))\n",
    "    result = [list(subset) for subset in subsets]\n",
    "    return result\n",
    "\n",
    "def get_minimum_change_for_perturbation(perturbed_chosen, context_chosen, events_chosen):\n",
    "    for combination in get_possible_combinations(get_changes_list(context_chosen, perturbed_chosen)):\n",
    "        copy = to_cuda(context_chosen.clone().detach())\n",
    "        for index_of_change, value_of_change in combination:\n",
    "            copy[index_of_change] = value_of_change\n",
    "        copy.resize_(1, copy.size()[-1])\n",
    "        if get_performance(to_output(copy), events_chosen):\n",
    "            return copy.squeeze(0)\n",
    "    return perturbed_chosen\n",
    "\n",
    "def get_minimum_change_for_perturbation_attention_query(perturbed_chosen, context_chosen, events_chosen):\n",
    "    trace_combinations = []\n",
    "    for combination in get_possible_combinations(get_changes_list(context_chosen, perturbed_chosen)):\n",
    "        copy = to_cuda(context_chosen.clone().detach())\n",
    "        for index_of_change, value_of_change in combination:\n",
    "            copy[index_of_change] = value_of_change\n",
    "        trace_combinations.append(copy)\n",
    "    if len(trace_combinations) == 0:\n",
    "        return perturbed_chosen\n",
    "    mask_indices = get_correct_prediction_for_list(torch.stack(trace_combinations), events_chosen)[0]\n",
    "    chosen = perturbed_chosen\n",
    "    if len(mask_indices) != 0:\n",
    "        chosen = trace_combinations[mask_indices[0]]\n",
    "    return chosen\n",
    "    \n",
    "def get_correct_prediction_for_list(context_chosen, events_chosen, iterations=100):\n",
    "    _, mask = interpreter.attended_context(\n",
    "        X           = to_one_hot(context_chosen),\n",
    "        y           = to_cuda(torch.full((len(context_chosen),1), events_chosen.item())),\n",
    "        iterations  = iterations\n",
    "    )\n",
    "    return torch.where(~mask)[0], torch.where(mask)[0]\n",
    "    \n",
    "def get_shortcuts(perturbed_chosen, context_chosen, events_chosen):\n",
    "    pick_list = []\n",
    "    for perturbed_element  in tqdm(zip(perturbed_chosen, context_chosen, events_chosen), total=len(perturbed_chosen)):\n",
    "        pick_list.append(get_minimum_change_for_perturbation(*perturbed_element))\n",
    "    return to_cuda(torch.stack(pick_list))\n",
    "\n",
    "def get_shortcuts_or_file(perturbed_chosen, context_chosen, events_chosen):\n",
    "    f_name = f\"perturbed/minimized/{ALPHA=}, {EPSILON=}.pt\"\n",
    "    if os.path.exists(f_name):\n",
    "        print(f\"Loading {f_name}\")\n",
    "        return torch.load(f_name)\n",
    "    pick_list = get_shortcuts(perturbed_chosen, context_chosen, events_chosen)\n",
    "    torch.save(pick_list, f_name)\n",
    "    return pick_list\n",
    "    \n",
    "def get_shortcuts_attention_query(perturbed_chosen, context_chosen, events_chosen):\n",
    "    pick_list = []\n",
    "    for perturbed_element  in tqdm(zip(perturbed_chosen, context_chosen, events_chosen), total=len(perturbed_chosen)):\n",
    "        pick_list.append(get_minimum_change_for_perturbation_attention_query(*perturbed_element))\n",
    "    return to_cuda(torch.stack(pick_list))\n",
    "\n",
    "def get_shortcuts_attention_query_or_file(perturbed_chosen, context_chosen, events_chosen):\n",
    "    f_name = f\"perturbed/minimized_attention_query/{ALPHA=}, {EPSILON=}.pt\"\n",
    "    if os.path.exists(f_name):\n",
    "        print(f\"Loading {f_name}\")\n",
    "        return torch.load(f_name)\n",
    "    pick_list = get_shortcuts_attention_query(perturbed_chosen, context_chosen, events_chosen)\n",
    "    torch.save(pick_list, f_name)\n",
    "    return pick_list\n",
    "    \n",
    "def get_dist(trace_dist):\n",
    "    tensor_tuples = [tuple(t) if len(t) > 0 else (t.item(),) for t in trace_dist]\n",
    "    index_groups = {}\n",
    "    for idx, tensor_tuple in enumerate(tensor_tuples):\n",
    "        if tensor_tuple not in index_groups:\n",
    "            index_groups[tensor_tuple] = []\n",
    "        index_groups[tensor_tuple].append(idx)\n",
    "    sorted_groups = sorted(index_groups.items(), key=lambda x: (len(x[0]), x[0]))\n",
    "    return [idx for _, indices_l in sorted_groups for idx in indices_l]\n",
    "    \n",
    "def get_matrix(context_chosen, shortcut_chosen, perturb_chosen):\n",
    "    matrix = [[0] * 10 for _ in range(10)]\n",
    "    for c, s, p in zip(context_chosen, shortcut_chosen, perturb_chosen):\n",
    "        cs = len(get_changes_list(c, s)) - 1\n",
    "        cp = len(get_changes_list(c, p)) - 1\n",
    "        matrix[cp][cs] += 1\n",
    "    for m in matrix:\n",
    "        print(f\"[{\", \".join([f'{num:3}' for num in m])}]\")\n",
    "    \n",
    "def get_combined(perturbed_chosen, perturbed_indices_chosen):\n",
    "    context_test_copy = context_test.clone().detach()\n",
    "    context_test_copy[perturbed_indices_chosen] = perturbed_chosen\n",
    "    context_test_copy_indices = get_unique_indices_per_row(context_test_copy)\n",
    "    return interpret(context_test_copy[context_test_copy_indices], events_test[context_test_copy_indices]), context_test_copy_indices\n",
    "    \n",
    "def bim_attack(context_chosen, event_chosen):\n",
    "    change = 0\n",
    "    original_context = to_cuda(to_one_hot(context_chosen).clone().detach())\n",
    "    context_processed = to_cuda(to_one_hot(context_chosen).clone().detach())\n",
    "    for iteration in range(MAX_ITER):\n",
    "        context_processed.requires_grad_(True)\n",
    "        output = builder.predict(context_processed)\n",
    "        if get_performance(output, event_chosen[0]):\n",
    "            return torch.argmax(context_processed, dim=-1).tolist()[0], iteration\n",
    "        loss = criterion(output[0][0], event_chosen)\n",
    "        context_processed.retain_grad()\n",
    "        loss.backward(retain_graph=True)\n",
    "        grad = context_processed.grad.sign()\n",
    "        change += ALPHA * grad\n",
    "        context_processed = get_perturbation_change(context_processed + change, original_context)\n",
    "    return None\n",
    "    \n",
    "def format_results(results):\n",
    "    results_picked = torch.topk(results[0][0][0], 3)\n",
    "    exp = results_picked.values.exp()\n",
    "    res_indices = results_picked.indices\n",
    "    return \", \".join([f\"{format_list([res_indices[j].item()])} {'{:.3f}'.format(exp[j])}\" for j in range(3)])\n",
    "  \n",
    "def format_changes(start, final):\n",
    "    changes = []\n",
    "    same = []\n",
    "    for s, f in zip(start, final):\n",
    "        if s == f:\n",
    "            changes.append(\"-\")\n",
    "            same.append(final)\n",
    "        else:\n",
    "            changes.append(f)\n",
    "            same.append(\"XX\")\n",
    "    return format_list(changes), format_list(same)\n",
    "\n",
    "def format_list(li):\n",
    "    return f\"[{\", \".join([f'{num:2}' for num in li])}]\"\n",
    "            \n",
    "def format_trace_prediction(current_trace_num, trace):\n",
    "    start = \" \"*(len(str(current_trace_num)) + 2)\n",
    "    trace = to_cuda(trace.clone().detach())\n",
    "    trace.resize_(1, trace.size()[-1])\n",
    "    return f\"{start}{format_list(trace)} -> {format_results(to_output(trace))}\\n\"\n",
    "            \n",
    "def format_perturbation(perturb_chosen, perturb_int, context_chosen, event_chosen, current_trace_num):\n",
    "    result_string = f\"{current_trace_num}: {format_list(context_chosen[0].tolist())} == {event_chosen.tolist()} Changed [{perturb_int}], Perturbations [{len(get_changes_list(context_chosen, perturb_chosen))}]\\n\"\n",
    "    result_string += format_trace_prediction(current_trace_num, context_chosen)    \n",
    "    result_string += format_trace_prediction(current_trace_num, perturb_chosen)    \n",
    "    changed_entries, same_entries = format_changes(context_chosen, perturb_chosen)\n",
    "    result_string += f\"{\" \"*(len(str(current_trace_num)) - 1)}== {same_entries}\\n{\" \"*(len(str(current_trace_num)) - 1)}-> {changed_entries}\\n\\n\"\n",
    "    return result_string\n",
    "\n",
    "def format_attention(x_mask, context_mask, vectors, neighbours, distance, scores):\n",
    "    data_collected = [] \n",
    "    for i in range(len(context_mask)):\n",
    "        l_value = torch.tensor(vectors[context_mask][i].toarray()[0])\n",
    "        l_indices = torch.nonzero(l_value, as_tuple=False).squeeze(1)\n",
    "        data_collected.append({\n",
    "            \"trace\": x_mask[context_mask][i],\n",
    "            \"indices\": l_indices.tolist(),\n",
    "            \"value\": l_value[l_indices].tolist(),\n",
    "            \"neighbour\": f\"{{{neighbours[i]:5}; {scores[i]} | {'{:.4f}'.format(distance[i][0]) }}}\"\n",
    "        })\n",
    "    res_str = \"\"\n",
    "    for s in get_dist(list(map(lambda x: x[\"indices\"], data_collected))):\n",
    "        local_l = data_collected[s]\n",
    "        local_list = list(zip(local_l[\"indices\"], local_l[\"value\"]))\n",
    "        res = f\"{format_list(local_l[\"trace\"].tolist())} -> \"\n",
    "        for index, value in sorted(local_list, key=lambda x: x[1], reverse=True):\n",
    "            res += f\"[{f'{index:2}'}]: {'{:.4f}'.format(value)} \"\n",
    "        res_str += res + f\"{\" \"*(150 - len(res))} {local_l[\"neighbour\"]}\\n\"\n",
    "    return res_str\n",
    "\n",
    "def format_series(series):\n",
    "    return pd.Series(series).value_counts().sort_index()\n",
    "\n",
    "def format_confusion_matrix(y_true, y_pred):\n",
    "    format_labels = sorted(list(set(y_true.tolist()) | set(y_pred.tolist())))\n",
    "    return pd.DataFrame(confusion_matrix(y_true, y_pred), index=format_labels, columns=format_labels)\n",
    "\n",
    "def show_clusters(x, y):\n",
    "    vectors, mask = interpreter.attended_context(to_one_hot(x), y.reshape(-1, 1))\n",
    "    indices_y = group_by(y[mask].reshape(-1, 1).cpu().numpy(), lambda e: e.data.tobytes(),)\n",
    "    with open(f\"results/cluster/alpha={ALPHA}, epsilon={EPSILON}.txt\", \"w\") as file:\n",
    "        for event, context_mask in indices_y:\n",
    "            event = ord(event.decode('ascii')[0])   \n",
    "            if event not in interpreter.tree:\n",
    "                file.write(f\"{\"<\"*50}[{event}]{\">\"*50}\\n\")\n",
    "                continue\n",
    "            file.write(f\"{\"=\"*50}[{event}]{\"=\"*50}\\n\")\n",
    "            vectors_, inverse, _ = sp_unique(vectors[context_mask])\n",
    "            distance, neighbours = interpreter.tree[event].query(\n",
    "                X               = vectors_.toarray(),\n",
    "                return_distance = True,\n",
    "                dualtree        = vectors_.shape[0] >= 1e3, # Optimization\n",
    "            )\n",
    "            neighbours = interpreter.tree[event].get_arrays()[1][neighbours][:, 0]\n",
    "            scores = np.asarray([interpreter.labels[event][neighbour] for neighbour in neighbours])\n",
    "            file.write(format_attention(x[mask], context_mask, vectors, neighbours[inverse], distance[inverse], scores[inverse]) + \"\\n\")\n",
    "\n",
    "def interpret_query(context_passed, events_passed, threshold=0.2):\n",
    "    c = to_one_hot(context_passed)\n",
    "    e = events_passed.reshape(-1, 1)\n",
    "    interpreter.threshold = threshold\n",
    "    return interpreter.predict(X=c, y=e)\n",
    "\n",
    "def interpret(context_passed, events_passed, threshold=0.2):\n",
    "    c = to_one_hot(context_passed)\n",
    "    e = events_passed.reshape(-1, 1)\n",
    "    interpreter.threshold = threshold\n",
    "    return interpreter.predict(X=c, y=e, iterations=0)\n",
    "\n",
    "def bim_no_iter(context_chosen, event_chosen, iters):\n",
    "    context_processed = to_cuda(to_one_hot(context_chosen).clone().detach())\n",
    "    original_context = to_cuda(to_one_hot(context_chosen).clone().detach())\n",
    "    context_processed.requires_grad_(True)\n",
    "    output = builder.predict(context_processed)\n",
    "    loss = criterion(output[0][0], event_chosen)\n",
    "    context_processed.retain_grad()\n",
    "    loss.backward(retain_graph=True)\n",
    "    context_processed = get_perturbation_change(context_processed + (ALPHA * context_processed.grad.sign()) * iters, original_context)\n",
    "    return to_cuda(torch.tensor(torch.argmax(context_processed, dim=-1).tolist()[0]))\n",
    "\n",
    "def run_bim(context_to_process, events_to_process):\n",
    "    perturbed_collected_main = []\n",
    "    perturbed_indices_main = []\n",
    "    states = [0, 0, 0]\n",
    "    length = len(context_to_process)\n",
    "    iters = tqdm(range(length))\n",
    "    iters_to_flip = get_iter_count(context_to_process, events_to_process)\n",
    "    for current_trace_num in iters:\n",
    "        con, e = context_to_process[current_trace_num], events_to_process.unsqueeze(1)[current_trace_num]\n",
    "        con.resize_(1, con.size()[-1])\n",
    "        if get_performance(con, e[0]):\n",
    "            states[0] += 1\n",
    "            continue\n",
    "        perturbed = bim_no_iter(con, e, iters=iters_to_flip)\n",
    "        perturbed.resize_(1, perturbed.size()[-1])\n",
    "        if get_performance(perturbed, e[0]):\n",
    "            perturbed_collected_main.append(perturbed.tolist()[0])\n",
    "            perturbed_indices_main.append(current_trace_num)\n",
    "            states[1] += 1\n",
    "        else:\n",
    "            states[2] += 1\n",
    "    print(f\"incorrect={states[0]} perturbed={states[1]} timeout={states[2]}\")\n",
    "    return to_cuda(torch.tensor(perturbed_collected_main)), to_cuda(torch.tensor(perturbed_indices_main))"
   ],
   "id": "aed0a48282625435",
   "outputs": [],
   "execution_count": 350
  },
  {
   "metadata": {},
   "cell_type": "markdown",
   "source": "# Base Data",
   "id": "6a04b88285b0ac18"
  },
  {
   "metadata": {
    "ExecuteTime": {
     "end_time": "2024-11-05T17:24:54.554900Z",
     "start_time": "2024-11-05T17:24:54.546488Z"
    }
   },
   "cell_type": "code",
   "source": "format_series(labels_test.cpu())",
   "id": "a018199d3bba7e91",
   "outputs": [
    {
     "data": {
      "text/plain": [
       "1      65\n",
       "2     454\n",
       "3    3864\n",
       "5       9\n",
       "Name: count, dtype: int64"
      ]
     },
     "execution_count": 351,
     "metadata": {},
     "output_type": "execute_result"
    }
   ],
   "execution_count": 351
  },
  {
   "metadata": {},
   "cell_type": "markdown",
   "source": "### Without Attention Query",
   "id": "5a1f42a37cfab86a"
  },
  {
   "metadata": {
    "ExecuteTime": {
     "end_time": "2024-11-05T17:24:55.381042Z",
     "start_time": "2024-11-05T17:24:54.573666Z"
    }
   },
   "cell_type": "code",
   "source": [
    "res_normal = interpret(context_test, events_test)\n",
    "format_series(res_normal)"
   ],
   "id": "9080c2f76b7cefc0",
   "outputs": [
    {
     "data": {
      "text/plain": [
       "-3.0    2675\n",
       "-1.0    1074\n",
       " 2.0     147\n",
       " 3.0     480\n",
       " 5.0      16\n",
       "Name: count, dtype: int64"
      ]
     },
     "execution_count": 352,
     "metadata": {},
     "output_type": "execute_result"
    }
   ],
   "execution_count": 352
  },
  {
   "metadata": {
    "ExecuteTime": {
     "end_time": "2024-11-05T17:24:55.397189Z",
     "start_time": "2024-11-05T17:24:55.383034Z"
    }
   },
   "cell_type": "code",
   "source": "format_confusion_matrix(labels_test.cpu(), res_normal)",
   "id": "36aff409622aed33",
   "outputs": [
    {
     "data": {
      "text/plain": [
       "      -3.0  -1.0   1.0   2.0   3.0   5.0\n",
       "-3.0     0     0     0     0     0     0\n",
       "-1.0     0     0     0     0     0     0\n",
       " 1.0    33    20     0     0     0    12\n",
       " 2.0   221    86     0   147     0     0\n",
       " 3.0  2420   964     0     0   480     0\n",
       " 5.0     1     4     0     0     0     4"
      ],
      "text/html": [
       "<div>\n",
       "<style scoped>\n",
       "    .dataframe tbody tr th:only-of-type {\n",
       "        vertical-align: middle;\n",
       "    }\n",
       "\n",
       "    .dataframe tbody tr th {\n",
       "        vertical-align: top;\n",
       "    }\n",
       "\n",
       "    .dataframe thead th {\n",
       "        text-align: right;\n",
       "    }\n",
       "</style>\n",
       "<table border=\"1\" class=\"dataframe\">\n",
       "  <thead>\n",
       "    <tr style=\"text-align: right;\">\n",
       "      <th></th>\n",
       "      <th>-3.0</th>\n",
       "      <th>-1.0</th>\n",
       "      <th>1.0</th>\n",
       "      <th>2.0</th>\n",
       "      <th>3.0</th>\n",
       "      <th>5.0</th>\n",
       "    </tr>\n",
       "  </thead>\n",
       "  <tbody>\n",
       "    <tr>\n",
       "      <th>-3.0</th>\n",
       "      <td>0</td>\n",
       "      <td>0</td>\n",
       "      <td>0</td>\n",
       "      <td>0</td>\n",
       "      <td>0</td>\n",
       "      <td>0</td>\n",
       "    </tr>\n",
       "    <tr>\n",
       "      <th>-1.0</th>\n",
       "      <td>0</td>\n",
       "      <td>0</td>\n",
       "      <td>0</td>\n",
       "      <td>0</td>\n",
       "      <td>0</td>\n",
       "      <td>0</td>\n",
       "    </tr>\n",
       "    <tr>\n",
       "      <th>1.0</th>\n",
       "      <td>33</td>\n",
       "      <td>20</td>\n",
       "      <td>0</td>\n",
       "      <td>0</td>\n",
       "      <td>0</td>\n",
       "      <td>12</td>\n",
       "    </tr>\n",
       "    <tr>\n",
       "      <th>2.0</th>\n",
       "      <td>221</td>\n",
       "      <td>86</td>\n",
       "      <td>0</td>\n",
       "      <td>147</td>\n",
       "      <td>0</td>\n",
       "      <td>0</td>\n",
       "    </tr>\n",
       "    <tr>\n",
       "      <th>3.0</th>\n",
       "      <td>2420</td>\n",
       "      <td>964</td>\n",
       "      <td>0</td>\n",
       "      <td>0</td>\n",
       "      <td>480</td>\n",
       "      <td>0</td>\n",
       "    </tr>\n",
       "    <tr>\n",
       "      <th>5.0</th>\n",
       "      <td>1</td>\n",
       "      <td>4</td>\n",
       "      <td>0</td>\n",
       "      <td>0</td>\n",
       "      <td>0</td>\n",
       "      <td>4</td>\n",
       "    </tr>\n",
       "  </tbody>\n",
       "</table>\n",
       "</div>"
      ]
     },
     "execution_count": 353,
     "metadata": {},
     "output_type": "execute_result"
    }
   ],
   "execution_count": 353
  },
  {
   "metadata": {},
   "cell_type": "markdown",
   "source": "### Attention Query",
   "id": "51469441aedfa3b4"
  },
  {
   "metadata": {
    "ExecuteTime": {
     "end_time": "2024-11-05T17:24:57.204066Z",
     "start_time": "2024-11-05T17:24:55.398644Z"
    }
   },
   "cell_type": "code",
   "source": [
    "res_normal_query = interpret_query(context_test, events_test)\n",
    "format_series(res_normal_query)"
   ],
   "id": "8638fdbc6f7e0034",
   "outputs": [
    {
     "data": {
      "text/plain": [
       "-3.0     467\n",
       "-1.0     490\n",
       " 2.0     378\n",
       " 3.0    3025\n",
       " 5.0      32\n",
       "Name: count, dtype: int64"
      ]
     },
     "execution_count": 354,
     "metadata": {},
     "output_type": "execute_result"
    }
   ],
   "execution_count": 354
  },
  {
   "metadata": {
    "ExecuteTime": {
     "end_time": "2024-11-05T17:24:57.225192Z",
     "start_time": "2024-11-05T17:24:57.207572Z"
    }
   },
   "cell_type": "code",
   "source": "format_confusion_matrix(labels_test.cpu(), res_normal_query)",
   "id": "22ab7d1656b0060e",
   "outputs": [
    {
     "data": {
      "text/plain": [
       "      -3.0  -1.0   1.0   2.0   3.0   5.0\n",
       "-3.0     0     0     0     0     0     0\n",
       "-1.0     0     0     0     0     0     0\n",
       " 1.0    25    13     0     0     0    27\n",
       " 2.0    21    55     0   378     0     0\n",
       " 3.0   420   419     0     0  3025     0\n",
       " 5.0     1     3     0     0     0     5"
      ],
      "text/html": [
       "<div>\n",
       "<style scoped>\n",
       "    .dataframe tbody tr th:only-of-type {\n",
       "        vertical-align: middle;\n",
       "    }\n",
       "\n",
       "    .dataframe tbody tr th {\n",
       "        vertical-align: top;\n",
       "    }\n",
       "\n",
       "    .dataframe thead th {\n",
       "        text-align: right;\n",
       "    }\n",
       "</style>\n",
       "<table border=\"1\" class=\"dataframe\">\n",
       "  <thead>\n",
       "    <tr style=\"text-align: right;\">\n",
       "      <th></th>\n",
       "      <th>-3.0</th>\n",
       "      <th>-1.0</th>\n",
       "      <th>1.0</th>\n",
       "      <th>2.0</th>\n",
       "      <th>3.0</th>\n",
       "      <th>5.0</th>\n",
       "    </tr>\n",
       "  </thead>\n",
       "  <tbody>\n",
       "    <tr>\n",
       "      <th>-3.0</th>\n",
       "      <td>0</td>\n",
       "      <td>0</td>\n",
       "      <td>0</td>\n",
       "      <td>0</td>\n",
       "      <td>0</td>\n",
       "      <td>0</td>\n",
       "    </tr>\n",
       "    <tr>\n",
       "      <th>-1.0</th>\n",
       "      <td>0</td>\n",
       "      <td>0</td>\n",
       "      <td>0</td>\n",
       "      <td>0</td>\n",
       "      <td>0</td>\n",
       "      <td>0</td>\n",
       "    </tr>\n",
       "    <tr>\n",
       "      <th>1.0</th>\n",
       "      <td>25</td>\n",
       "      <td>13</td>\n",
       "      <td>0</td>\n",
       "      <td>0</td>\n",
       "      <td>0</td>\n",
       "      <td>27</td>\n",
       "    </tr>\n",
       "    <tr>\n",
       "      <th>2.0</th>\n",
       "      <td>21</td>\n",
       "      <td>55</td>\n",
       "      <td>0</td>\n",
       "      <td>378</td>\n",
       "      <td>0</td>\n",
       "      <td>0</td>\n",
       "    </tr>\n",
       "    <tr>\n",
       "      <th>3.0</th>\n",
       "      <td>420</td>\n",
       "      <td>419</td>\n",
       "      <td>0</td>\n",
       "      <td>0</td>\n",
       "      <td>3025</td>\n",
       "      <td>0</td>\n",
       "    </tr>\n",
       "    <tr>\n",
       "      <th>5.0</th>\n",
       "      <td>1</td>\n",
       "      <td>3</td>\n",
       "      <td>0</td>\n",
       "      <td>0</td>\n",
       "      <td>0</td>\n",
       "      <td>5</td>\n",
       "    </tr>\n",
       "  </tbody>\n",
       "</table>\n",
       "</div>"
      ]
     },
     "execution_count": 355,
     "metadata": {},
     "output_type": "execute_result"
    }
   ],
   "execution_count": 355
  },
  {
   "metadata": {},
   "cell_type": "markdown",
   "source": "# Perturbed Data",
   "id": "1e7b6103163f075a"
  },
  {
   "metadata": {
    "ExecuteTime": {
     "end_time": "2024-11-05T17:24:57.233008Z",
     "start_time": "2024-11-05T17:24:57.226488Z"
    }
   },
   "cell_type": "code",
   "source": "perturbed_collected, perturbed_indices, perturb_distribution = get_perturbations_or_file(context_test, events_test)",
   "id": "7505db07e1f3f663",
   "outputs": [
    {
     "name": "stdout",
     "output_type": "stream",
     "text": [
      "Loading perturbed/collected/ALPHA=1.0, EPSILON=0.5.pt\n",
      "Loading perturbed/indices/ALPHA=1.0, EPSILON=0.5.pt\n",
      "Loading perturbed/distribution/ALPHA=1.0, EPSILON=0.5.pt\n",
      "tensor([1074, 3033,  285], device='cuda:0')\n"
     ]
    }
   ],
   "execution_count": 356
  },
  {
   "metadata": {},
   "cell_type": "markdown",
   "source": "### Without Attention Query",
   "id": "9c933e9022773e43"
  },
  {
   "metadata": {
    "ExecuteTime": {
     "end_time": "2024-11-05T17:24:57.533127Z",
     "start_time": "2024-11-05T17:24:57.234145Z"
    }
   },
   "cell_type": "code",
   "source": [
    "print(\"Unique:\", len(get_unique_indices_per_row(perturbed_collected)))\n",
    "interpreter_perturbed = interpret(perturbed_collected, events_test[perturbed_indices])\n",
    "format_series(interpreter_perturbed)"
   ],
   "id": "917381ce1abdffbe",
   "outputs": [
    {
     "name": "stdout",
     "output_type": "stream",
     "text": [
      "Unique: 2409\n"
     ]
    },
    {
     "data": {
      "text/plain": [
       "-1.0    3033\n",
       "Name: count, dtype: int64"
      ]
     },
     "execution_count": 357,
     "metadata": {},
     "output_type": "execute_result"
    }
   ],
   "execution_count": 357
  },
  {
   "metadata": {
    "ExecuteTime": {
     "end_time": "2024-11-05T17:24:58.336911Z",
     "start_time": "2024-11-05T17:24:57.534313Z"
    }
   },
   "cell_type": "code",
   "source": "format_confusion_matrix(labels_test[perturbed_indices].cpu(), interpret(context_test[perturbed_indices], events_test[perturbed_indices]))",
   "id": "1e91ea3cf1e14ab9",
   "outputs": [
    {
     "data": {
      "text/plain": [
       "      -3.0   1.0   2.0   3.0   5.0\n",
       "-3.0     0     0     0     0     0\n",
       " 1.0    33     0     0     0     2\n",
       " 2.0   163     0   121     0     0\n",
       " 3.0  2315     0     0   398     0\n",
       " 5.0     1     0     0     0     0"
      ],
      "text/html": [
       "<div>\n",
       "<style scoped>\n",
       "    .dataframe tbody tr th:only-of-type {\n",
       "        vertical-align: middle;\n",
       "    }\n",
       "\n",
       "    .dataframe tbody tr th {\n",
       "        vertical-align: top;\n",
       "    }\n",
       "\n",
       "    .dataframe thead th {\n",
       "        text-align: right;\n",
       "    }\n",
       "</style>\n",
       "<table border=\"1\" class=\"dataframe\">\n",
       "  <thead>\n",
       "    <tr style=\"text-align: right;\">\n",
       "      <th></th>\n",
       "      <th>-3.0</th>\n",
       "      <th>1.0</th>\n",
       "      <th>2.0</th>\n",
       "      <th>3.0</th>\n",
       "      <th>5.0</th>\n",
       "    </tr>\n",
       "  </thead>\n",
       "  <tbody>\n",
       "    <tr>\n",
       "      <th>-3.0</th>\n",
       "      <td>0</td>\n",
       "      <td>0</td>\n",
       "      <td>0</td>\n",
       "      <td>0</td>\n",
       "      <td>0</td>\n",
       "    </tr>\n",
       "    <tr>\n",
       "      <th>1.0</th>\n",
       "      <td>33</td>\n",
       "      <td>0</td>\n",
       "      <td>0</td>\n",
       "      <td>0</td>\n",
       "      <td>2</td>\n",
       "    </tr>\n",
       "    <tr>\n",
       "      <th>2.0</th>\n",
       "      <td>163</td>\n",
       "      <td>0</td>\n",
       "      <td>121</td>\n",
       "      <td>0</td>\n",
       "      <td>0</td>\n",
       "    </tr>\n",
       "    <tr>\n",
       "      <th>3.0</th>\n",
       "      <td>2315</td>\n",
       "      <td>0</td>\n",
       "      <td>0</td>\n",
       "      <td>398</td>\n",
       "      <td>0</td>\n",
       "    </tr>\n",
       "    <tr>\n",
       "      <th>5.0</th>\n",
       "      <td>1</td>\n",
       "      <td>0</td>\n",
       "      <td>0</td>\n",
       "      <td>0</td>\n",
       "      <td>0</td>\n",
       "    </tr>\n",
       "  </tbody>\n",
       "</table>\n",
       "</div>"
      ]
     },
     "execution_count": 358,
     "metadata": {},
     "output_type": "execute_result"
    }
   ],
   "execution_count": 358
  },
  {
   "metadata": {
    "ExecuteTime": {
     "end_time": "2024-11-05T17:24:58.353520Z",
     "start_time": "2024-11-05T17:24:58.340057Z"
    }
   },
   "cell_type": "code",
   "source": "format_confusion_matrix(labels_test[perturbed_indices].cpu(), interpreter_perturbed)",
   "id": "246f21acaefaf781",
   "outputs": [
    {
     "data": {
      "text/plain": [
       "      -1.0   1.0   2.0   3.0   5.0\n",
       "-1.0     0     0     0     0     0\n",
       " 1.0    35     0     0     0     0\n",
       " 2.0   284     0     0     0     0\n",
       " 3.0  2713     0     0     0     0\n",
       " 5.0     1     0     0     0     0"
      ],
      "text/html": [
       "<div>\n",
       "<style scoped>\n",
       "    .dataframe tbody tr th:only-of-type {\n",
       "        vertical-align: middle;\n",
       "    }\n",
       "\n",
       "    .dataframe tbody tr th {\n",
       "        vertical-align: top;\n",
       "    }\n",
       "\n",
       "    .dataframe thead th {\n",
       "        text-align: right;\n",
       "    }\n",
       "</style>\n",
       "<table border=\"1\" class=\"dataframe\">\n",
       "  <thead>\n",
       "    <tr style=\"text-align: right;\">\n",
       "      <th></th>\n",
       "      <th>-1.0</th>\n",
       "      <th>1.0</th>\n",
       "      <th>2.0</th>\n",
       "      <th>3.0</th>\n",
       "      <th>5.0</th>\n",
       "    </tr>\n",
       "  </thead>\n",
       "  <tbody>\n",
       "    <tr>\n",
       "      <th>-1.0</th>\n",
       "      <td>0</td>\n",
       "      <td>0</td>\n",
       "      <td>0</td>\n",
       "      <td>0</td>\n",
       "      <td>0</td>\n",
       "    </tr>\n",
       "    <tr>\n",
       "      <th>1.0</th>\n",
       "      <td>35</td>\n",
       "      <td>0</td>\n",
       "      <td>0</td>\n",
       "      <td>0</td>\n",
       "      <td>0</td>\n",
       "    </tr>\n",
       "    <tr>\n",
       "      <th>2.0</th>\n",
       "      <td>284</td>\n",
       "      <td>0</td>\n",
       "      <td>0</td>\n",
       "      <td>0</td>\n",
       "      <td>0</td>\n",
       "    </tr>\n",
       "    <tr>\n",
       "      <th>3.0</th>\n",
       "      <td>2713</td>\n",
       "      <td>0</td>\n",
       "      <td>0</td>\n",
       "      <td>0</td>\n",
       "      <td>0</td>\n",
       "    </tr>\n",
       "    <tr>\n",
       "      <th>5.0</th>\n",
       "      <td>1</td>\n",
       "      <td>0</td>\n",
       "      <td>0</td>\n",
       "      <td>0</td>\n",
       "      <td>0</td>\n",
       "    </tr>\n",
       "  </tbody>\n",
       "</table>\n",
       "</div>"
      ]
     },
     "execution_count": 359,
     "metadata": {},
     "output_type": "execute_result"
    }
   ],
   "execution_count": 359
  },
  {
   "metadata": {
    "ExecuteTime": {
     "end_time": "2024-11-05T17:24:58.793824Z",
     "start_time": "2024-11-05T17:24:58.354662Z"
    }
   },
   "cell_type": "code",
   "source": [
    "interpret_perturbed_combined, interpret_perturbed_indices = get_combined(perturbed_collected, perturbed_indices)\n",
    "format_series(interpret_perturbed_combined)"
   ],
   "id": "9363911580e357cc",
   "outputs": [
    {
     "data": {
      "text/plain": [
       "-3.0     162\n",
       "-1.0    3476\n",
       " 2.0      19\n",
       " 3.0      82\n",
       " 5.0      14\n",
       "Name: count, dtype: int64"
      ]
     },
     "execution_count": 360,
     "metadata": {},
     "output_type": "execute_result"
    }
   ],
   "execution_count": 360
  },
  {
   "metadata": {
    "ExecuteTime": {
     "end_time": "2024-11-05T17:24:58.810848Z",
     "start_time": "2024-11-05T17:24:58.796426Z"
    }
   },
   "cell_type": "code",
   "source": "format_confusion_matrix(labels_test[interpret_perturbed_indices].cpu(), interpret_perturbed_combined)",
   "id": "db6da10a71c9a8c9",
   "outputs": [
    {
     "data": {
      "text/plain": [
       "      -3.0  -1.0   1.0   2.0   3.0   5.0\n",
       "-3.0     0     0     0     0     0     0\n",
       "-1.0     0     0     0     0     0     0\n",
       " 1.0     0    49     0     0     0    10\n",
       " 2.0    57   310     0    19     0     0\n",
       " 3.0   105  3113     0     0    82     0\n",
       " 5.0     0     4     0     0     0     4"
      ],
      "text/html": [
       "<div>\n",
       "<style scoped>\n",
       "    .dataframe tbody tr th:only-of-type {\n",
       "        vertical-align: middle;\n",
       "    }\n",
       "\n",
       "    .dataframe tbody tr th {\n",
       "        vertical-align: top;\n",
       "    }\n",
       "\n",
       "    .dataframe thead th {\n",
       "        text-align: right;\n",
       "    }\n",
       "</style>\n",
       "<table border=\"1\" class=\"dataframe\">\n",
       "  <thead>\n",
       "    <tr style=\"text-align: right;\">\n",
       "      <th></th>\n",
       "      <th>-3.0</th>\n",
       "      <th>-1.0</th>\n",
       "      <th>1.0</th>\n",
       "      <th>2.0</th>\n",
       "      <th>3.0</th>\n",
       "      <th>5.0</th>\n",
       "    </tr>\n",
       "  </thead>\n",
       "  <tbody>\n",
       "    <tr>\n",
       "      <th>-3.0</th>\n",
       "      <td>0</td>\n",
       "      <td>0</td>\n",
       "      <td>0</td>\n",
       "      <td>0</td>\n",
       "      <td>0</td>\n",
       "      <td>0</td>\n",
       "    </tr>\n",
       "    <tr>\n",
       "      <th>-1.0</th>\n",
       "      <td>0</td>\n",
       "      <td>0</td>\n",
       "      <td>0</td>\n",
       "      <td>0</td>\n",
       "      <td>0</td>\n",
       "      <td>0</td>\n",
       "    </tr>\n",
       "    <tr>\n",
       "      <th>1.0</th>\n",
       "      <td>0</td>\n",
       "      <td>49</td>\n",
       "      <td>0</td>\n",
       "      <td>0</td>\n",
       "      <td>0</td>\n",
       "      <td>10</td>\n",
       "    </tr>\n",
       "    <tr>\n",
       "      <th>2.0</th>\n",
       "      <td>57</td>\n",
       "      <td>310</td>\n",
       "      <td>0</td>\n",
       "      <td>19</td>\n",
       "      <td>0</td>\n",
       "      <td>0</td>\n",
       "    </tr>\n",
       "    <tr>\n",
       "      <th>3.0</th>\n",
       "      <td>105</td>\n",
       "      <td>3113</td>\n",
       "      <td>0</td>\n",
       "      <td>0</td>\n",
       "      <td>82</td>\n",
       "      <td>0</td>\n",
       "    </tr>\n",
       "    <tr>\n",
       "      <th>5.0</th>\n",
       "      <td>0</td>\n",
       "      <td>4</td>\n",
       "      <td>0</td>\n",
       "      <td>0</td>\n",
       "      <td>0</td>\n",
       "      <td>4</td>\n",
       "    </tr>\n",
       "  </tbody>\n",
       "</table>\n",
       "</div>"
      ]
     },
     "execution_count": 361,
     "metadata": {},
     "output_type": "execute_result"
    }
   ],
   "execution_count": 361
  },
  {
   "metadata": {},
   "cell_type": "markdown",
   "source": "### Attention Query",
   "id": "dd7d7f51a223e16d"
  },
  {
   "metadata": {
    "ExecuteTime": {
     "end_time": "2024-11-05T17:24:59.498302Z",
     "start_time": "2024-11-05T17:24:58.812142Z"
    }
   },
   "cell_type": "code",
   "source": [
    "print(\"Unique:\", len(get_unique_indices_per_row(perturbed_collected)))\n",
    "interpret_query_perturbed = interpret_query(perturbed_collected, events_test[perturbed_indices])\n",
    "format_series(interpret_query_perturbed)"
   ],
   "id": "377942a9e333233f",
   "outputs": [
    {
     "name": "stdout",
     "output_type": "stream",
     "text": [
      "Unique: 2409\n"
     ]
    },
    {
     "data": {
      "text/plain": [
       "-3.0     127\n",
       "-1.0    2781\n",
       " 2.0      20\n",
       " 3.0     105\n",
       "Name: count, dtype: int64"
      ]
     },
     "execution_count": 362,
     "metadata": {},
     "output_type": "execute_result"
    }
   ],
   "execution_count": 362
  },
  {
   "metadata": {
    "ExecuteTime": {
     "end_time": "2024-11-05T17:25:01.069040Z",
     "start_time": "2024-11-05T17:24:59.500760Z"
    }
   },
   "cell_type": "code",
   "source": "format_confusion_matrix(labels_test[perturbed_indices].cpu(), interpret_query(context_test[perturbed_indices], events_test[perturbed_indices]))",
   "id": "4af53cca9dd7c0ac",
   "outputs": [
    {
     "data": {
      "text/plain": [
       "      -3.0   1.0   2.0   3.0   5.0\n",
       "-3.0     0     0     0     0     0\n",
       " 1.0    18     0     0     0    17\n",
       " 2.0     2     0   282     0     0\n",
       " 3.0   209     0     0  2504     0\n",
       " 5.0     0     0     0     0     1"
      ],
      "text/html": [
       "<div>\n",
       "<style scoped>\n",
       "    .dataframe tbody tr th:only-of-type {\n",
       "        vertical-align: middle;\n",
       "    }\n",
       "\n",
       "    .dataframe tbody tr th {\n",
       "        vertical-align: top;\n",
       "    }\n",
       "\n",
       "    .dataframe thead th {\n",
       "        text-align: right;\n",
       "    }\n",
       "</style>\n",
       "<table border=\"1\" class=\"dataframe\">\n",
       "  <thead>\n",
       "    <tr style=\"text-align: right;\">\n",
       "      <th></th>\n",
       "      <th>-3.0</th>\n",
       "      <th>1.0</th>\n",
       "      <th>2.0</th>\n",
       "      <th>3.0</th>\n",
       "      <th>5.0</th>\n",
       "    </tr>\n",
       "  </thead>\n",
       "  <tbody>\n",
       "    <tr>\n",
       "      <th>-3.0</th>\n",
       "      <td>0</td>\n",
       "      <td>0</td>\n",
       "      <td>0</td>\n",
       "      <td>0</td>\n",
       "      <td>0</td>\n",
       "    </tr>\n",
       "    <tr>\n",
       "      <th>1.0</th>\n",
       "      <td>18</td>\n",
       "      <td>0</td>\n",
       "      <td>0</td>\n",
       "      <td>0</td>\n",
       "      <td>17</td>\n",
       "    </tr>\n",
       "    <tr>\n",
       "      <th>2.0</th>\n",
       "      <td>2</td>\n",
       "      <td>0</td>\n",
       "      <td>282</td>\n",
       "      <td>0</td>\n",
       "      <td>0</td>\n",
       "    </tr>\n",
       "    <tr>\n",
       "      <th>3.0</th>\n",
       "      <td>209</td>\n",
       "      <td>0</td>\n",
       "      <td>0</td>\n",
       "      <td>2504</td>\n",
       "      <td>0</td>\n",
       "    </tr>\n",
       "    <tr>\n",
       "      <th>5.0</th>\n",
       "      <td>0</td>\n",
       "      <td>0</td>\n",
       "      <td>0</td>\n",
       "      <td>0</td>\n",
       "      <td>1</td>\n",
       "    </tr>\n",
       "  </tbody>\n",
       "</table>\n",
       "</div>"
      ]
     },
     "execution_count": 363,
     "metadata": {},
     "output_type": "execute_result"
    }
   ],
   "execution_count": 363
  },
  {
   "metadata": {
    "ExecuteTime": {
     "end_time": "2024-11-05T17:25:01.088791Z",
     "start_time": "2024-11-05T17:25:01.070838Z"
    }
   },
   "cell_type": "code",
   "source": "format_confusion_matrix(labels_test[perturbed_indices].cpu(), interpret_query_perturbed)",
   "id": "6b311a29093abfd2",
   "outputs": [
    {
     "data": {
      "text/plain": [
       "      -3.0  -1.0   1.0   2.0   3.0   5.0\n",
       "-3.0     0     0     0     0     0     0\n",
       "-1.0     0     0     0     0     0     0\n",
       " 1.0     2    33     0     0     0     0\n",
       " 2.0     9   255     0    20     0     0\n",
       " 3.0   116  2492     0     0   105     0\n",
       " 5.0     0     1     0     0     0     0"
      ],
      "text/html": [
       "<div>\n",
       "<style scoped>\n",
       "    .dataframe tbody tr th:only-of-type {\n",
       "        vertical-align: middle;\n",
       "    }\n",
       "\n",
       "    .dataframe tbody tr th {\n",
       "        vertical-align: top;\n",
       "    }\n",
       "\n",
       "    .dataframe thead th {\n",
       "        text-align: right;\n",
       "    }\n",
       "</style>\n",
       "<table border=\"1\" class=\"dataframe\">\n",
       "  <thead>\n",
       "    <tr style=\"text-align: right;\">\n",
       "      <th></th>\n",
       "      <th>-3.0</th>\n",
       "      <th>-1.0</th>\n",
       "      <th>1.0</th>\n",
       "      <th>2.0</th>\n",
       "      <th>3.0</th>\n",
       "      <th>5.0</th>\n",
       "    </tr>\n",
       "  </thead>\n",
       "  <tbody>\n",
       "    <tr>\n",
       "      <th>-3.0</th>\n",
       "      <td>0</td>\n",
       "      <td>0</td>\n",
       "      <td>0</td>\n",
       "      <td>0</td>\n",
       "      <td>0</td>\n",
       "      <td>0</td>\n",
       "    </tr>\n",
       "    <tr>\n",
       "      <th>-1.0</th>\n",
       "      <td>0</td>\n",
       "      <td>0</td>\n",
       "      <td>0</td>\n",
       "      <td>0</td>\n",
       "      <td>0</td>\n",
       "      <td>0</td>\n",
       "    </tr>\n",
       "    <tr>\n",
       "      <th>1.0</th>\n",
       "      <td>2</td>\n",
       "      <td>33</td>\n",
       "      <td>0</td>\n",
       "      <td>0</td>\n",
       "      <td>0</td>\n",
       "      <td>0</td>\n",
       "    </tr>\n",
       "    <tr>\n",
       "      <th>2.0</th>\n",
       "      <td>9</td>\n",
       "      <td>255</td>\n",
       "      <td>0</td>\n",
       "      <td>20</td>\n",
       "      <td>0</td>\n",
       "      <td>0</td>\n",
       "    </tr>\n",
       "    <tr>\n",
       "      <th>3.0</th>\n",
       "      <td>116</td>\n",
       "      <td>2492</td>\n",
       "      <td>0</td>\n",
       "      <td>0</td>\n",
       "      <td>105</td>\n",
       "      <td>0</td>\n",
       "    </tr>\n",
       "    <tr>\n",
       "      <th>5.0</th>\n",
       "      <td>0</td>\n",
       "      <td>1</td>\n",
       "      <td>0</td>\n",
       "      <td>0</td>\n",
       "      <td>0</td>\n",
       "      <td>0</td>\n",
       "    </tr>\n",
       "  </tbody>\n",
       "</table>\n",
       "</div>"
      ]
     },
     "execution_count": 364,
     "metadata": {},
     "output_type": "execute_result"
    }
   ],
   "execution_count": 364
  },
  {
   "metadata": {
    "ExecuteTime": {
     "end_time": "2024-11-05T17:25:01.542311Z",
     "start_time": "2024-11-05T17:25:01.090509Z"
    }
   },
   "cell_type": "code",
   "source": [
    "interpret_query_perturbed_combined, _ = get_combined(perturbed_collected, perturbed_indices)\n",
    "format_series(interpret_query_perturbed_combined)"
   ],
   "id": "3416eb967ea713e5",
   "outputs": [
    {
     "data": {
      "text/plain": [
       "-3.0     162\n",
       "-1.0    3476\n",
       " 2.0      19\n",
       " 3.0      82\n",
       " 5.0      14\n",
       "Name: count, dtype: int64"
      ]
     },
     "execution_count": 365,
     "metadata": {},
     "output_type": "execute_result"
    }
   ],
   "execution_count": 365
  },
  {
   "metadata": {},
   "cell_type": "markdown",
   "source": "# Shortcuts",
   "id": "74319fef1209b69e"
  },
  {
   "metadata": {
    "ExecuteTime": {
     "end_time": "2024-11-05T17:25:01.548022Z",
     "start_time": "2024-11-05T17:25:01.543647Z"
    }
   },
   "cell_type": "code",
   "source": [
    "perturbed_minimized = get_shortcuts_or_file(\n",
    "    perturbed_collected, \n",
    "    context_test[perturbed_indices], \n",
    "    events_test[perturbed_indices]\n",
    ")"
   ],
   "id": "c02f053c4b600123",
   "outputs": [
    {
     "name": "stdout",
     "output_type": "stream",
     "text": [
      "Loading perturbed/minimized/ALPHA=1.0, EPSILON=0.5.pt\n"
     ]
    }
   ],
   "execution_count": 366
  },
  {
   "metadata": {},
   "cell_type": "markdown",
   "source": "### Without Attention Query",
   "id": "b3f39953f69b76b9"
  },
  {
   "metadata": {
    "ExecuteTime": {
     "end_time": "2024-11-05T17:25:04.002909Z",
     "start_time": "2024-11-05T17:25:01.549475Z"
    }
   },
   "cell_type": "code",
   "source": "get_matrix(context_test[perturbed_indices], perturbed_minimized, perturbed_collected)",
   "id": "3fa418f6d57b5c4e",
   "outputs": [
    {
     "name": "stdout",
     "output_type": "stream",
     "text": [
      "[ 50,   0,   0,   0,   0,   0,   0,   0,   0,   0]\n",
      "[109,   2,   0,   0,   0,   0,   0,   0,   0,   0]\n",
      "[252,   7,   2,   0,   0,   0,   0,   0,   0,   0]\n",
      "[302,   9,   0,   0,   0,   0,   0,   0,   0,   0]\n",
      "[357,  10,   2,   1,   0,   0,   0,   0,   0,   0]\n",
      "[387,  15,   0,   2,   1,   0,   0,   0,   0,   0]\n",
      "[357,   3,   0,   0,   0,   0,   1,   0,   0,   0]\n",
      "[398,   0,   0,   0,   0,   0,   0,   0,   0,   0]\n",
      "[354,   1,   0,   0,   1,   1,   0,   0,   0,   0]\n",
      "[409,   0,   0,   0,   0,   0,   0,   0,   0,   0]\n"
     ]
    }
   ],
   "execution_count": 367
  },
  {
   "metadata": {
    "ExecuteTime": {
     "end_time": "2024-11-05T17:25:04.321934Z",
     "start_time": "2024-11-05T17:25:04.004155Z"
    }
   },
   "cell_type": "code",
   "source": [
    "print(\"Unique:\", len(get_unique_indices_per_row(perturbed_minimized)))\n",
    "res_perturbed_shortcuts = interpret(perturbed_minimized, events_test[perturbed_indices])\n",
    "format_series(res_perturbed_shortcuts)"
   ],
   "id": "49d4a4460e92260f",
   "outputs": [
    {
     "name": "stdout",
     "output_type": "stream",
     "text": [
      "Unique: 3009\n"
     ]
    },
    {
     "data": {
      "text/plain": [
       "-1.0    3033\n",
       "Name: count, dtype: int64"
      ]
     },
     "execution_count": 368,
     "metadata": {},
     "output_type": "execute_result"
    }
   ],
   "execution_count": 368
  },
  {
   "metadata": {
    "ExecuteTime": {
     "end_time": "2024-11-05T17:25:04.336752Z",
     "start_time": "2024-11-05T17:25:04.323445Z"
    }
   },
   "cell_type": "code",
   "source": "format_confusion_matrix(labels_test[perturbed_indices].cpu(), res_perturbed_shortcuts)",
   "id": "693068227b2cd425",
   "outputs": [
    {
     "data": {
      "text/plain": [
       "      -1.0   1.0   2.0   3.0   5.0\n",
       "-1.0     0     0     0     0     0\n",
       " 1.0    35     0     0     0     0\n",
       " 2.0   284     0     0     0     0\n",
       " 3.0  2713     0     0     0     0\n",
       " 5.0     1     0     0     0     0"
      ],
      "text/html": [
       "<div>\n",
       "<style scoped>\n",
       "    .dataframe tbody tr th:only-of-type {\n",
       "        vertical-align: middle;\n",
       "    }\n",
       "\n",
       "    .dataframe tbody tr th {\n",
       "        vertical-align: top;\n",
       "    }\n",
       "\n",
       "    .dataframe thead th {\n",
       "        text-align: right;\n",
       "    }\n",
       "</style>\n",
       "<table border=\"1\" class=\"dataframe\">\n",
       "  <thead>\n",
       "    <tr style=\"text-align: right;\">\n",
       "      <th></th>\n",
       "      <th>-1.0</th>\n",
       "      <th>1.0</th>\n",
       "      <th>2.0</th>\n",
       "      <th>3.0</th>\n",
       "      <th>5.0</th>\n",
       "    </tr>\n",
       "  </thead>\n",
       "  <tbody>\n",
       "    <tr>\n",
       "      <th>-1.0</th>\n",
       "      <td>0</td>\n",
       "      <td>0</td>\n",
       "      <td>0</td>\n",
       "      <td>0</td>\n",
       "      <td>0</td>\n",
       "    </tr>\n",
       "    <tr>\n",
       "      <th>1.0</th>\n",
       "      <td>35</td>\n",
       "      <td>0</td>\n",
       "      <td>0</td>\n",
       "      <td>0</td>\n",
       "      <td>0</td>\n",
       "    </tr>\n",
       "    <tr>\n",
       "      <th>2.0</th>\n",
       "      <td>284</td>\n",
       "      <td>0</td>\n",
       "      <td>0</td>\n",
       "      <td>0</td>\n",
       "      <td>0</td>\n",
       "    </tr>\n",
       "    <tr>\n",
       "      <th>3.0</th>\n",
       "      <td>2713</td>\n",
       "      <td>0</td>\n",
       "      <td>0</td>\n",
       "      <td>0</td>\n",
       "      <td>0</td>\n",
       "    </tr>\n",
       "    <tr>\n",
       "      <th>5.0</th>\n",
       "      <td>1</td>\n",
       "      <td>0</td>\n",
       "      <td>0</td>\n",
       "      <td>0</td>\n",
       "      <td>0</td>\n",
       "    </tr>\n",
       "  </tbody>\n",
       "</table>\n",
       "</div>"
      ]
     },
     "execution_count": 369,
     "metadata": {},
     "output_type": "execute_result"
    }
   ],
   "execution_count": 369
  },
  {
   "metadata": {
    "ExecuteTime": {
     "end_time": "2024-11-05T17:25:04.836395Z",
     "start_time": "2024-11-05T17:25:04.338297Z"
    }
   },
   "cell_type": "code",
   "source": [
    "interpret_shortcuts_combined, interpret_shortcuts_indices = get_combined(perturbed_minimized, perturbed_indices)\n",
    "format_series(interpret_shortcuts_combined)"
   ],
   "id": "470009850f317626",
   "outputs": [
    {
     "data": {
      "text/plain": [
       "-3.0     160\n",
       "-1.0    4081\n",
       " 2.0      25\n",
       " 3.0      82\n",
       " 5.0      14\n",
       "Name: count, dtype: int64"
      ]
     },
     "execution_count": 370,
     "metadata": {},
     "output_type": "execute_result"
    }
   ],
   "execution_count": 370
  },
  {
   "metadata": {
    "ExecuteTime": {
     "end_time": "2024-11-05T17:25:04.858594Z",
     "start_time": "2024-11-05T17:25:04.840464Z"
    }
   },
   "cell_type": "code",
   "source": "format_confusion_matrix(labels_test[interpret_shortcuts_indices].cpu(), interpret_shortcuts_combined)",
   "id": "9c0870f42857e1e2",
   "outputs": [
    {
     "data": {
      "text/plain": [
       "      -3.0  -1.0   1.0   2.0   3.0   5.0\n",
       "-3.0     0     0     0     0     0     0\n",
       "-1.0     0     0     0     0     0     0\n",
       " 1.0     0    55     0     0     0    10\n",
       " 2.0    55   367     0    25     0     0\n",
       " 3.0   105  3654     0     0    82     0\n",
       " 5.0     0     5     0     0     0     4"
      ],
      "text/html": [
       "<div>\n",
       "<style scoped>\n",
       "    .dataframe tbody tr th:only-of-type {\n",
       "        vertical-align: middle;\n",
       "    }\n",
       "\n",
       "    .dataframe tbody tr th {\n",
       "        vertical-align: top;\n",
       "    }\n",
       "\n",
       "    .dataframe thead th {\n",
       "        text-align: right;\n",
       "    }\n",
       "</style>\n",
       "<table border=\"1\" class=\"dataframe\">\n",
       "  <thead>\n",
       "    <tr style=\"text-align: right;\">\n",
       "      <th></th>\n",
       "      <th>-3.0</th>\n",
       "      <th>-1.0</th>\n",
       "      <th>1.0</th>\n",
       "      <th>2.0</th>\n",
       "      <th>3.0</th>\n",
       "      <th>5.0</th>\n",
       "    </tr>\n",
       "  </thead>\n",
       "  <tbody>\n",
       "    <tr>\n",
       "      <th>-3.0</th>\n",
       "      <td>0</td>\n",
       "      <td>0</td>\n",
       "      <td>0</td>\n",
       "      <td>0</td>\n",
       "      <td>0</td>\n",
       "      <td>0</td>\n",
       "    </tr>\n",
       "    <tr>\n",
       "      <th>-1.0</th>\n",
       "      <td>0</td>\n",
       "      <td>0</td>\n",
       "      <td>0</td>\n",
       "      <td>0</td>\n",
       "      <td>0</td>\n",
       "      <td>0</td>\n",
       "    </tr>\n",
       "    <tr>\n",
       "      <th>1.0</th>\n",
       "      <td>0</td>\n",
       "      <td>55</td>\n",
       "      <td>0</td>\n",
       "      <td>0</td>\n",
       "      <td>0</td>\n",
       "      <td>10</td>\n",
       "    </tr>\n",
       "    <tr>\n",
       "      <th>2.0</th>\n",
       "      <td>55</td>\n",
       "      <td>367</td>\n",
       "      <td>0</td>\n",
       "      <td>25</td>\n",
       "      <td>0</td>\n",
       "      <td>0</td>\n",
       "    </tr>\n",
       "    <tr>\n",
       "      <th>3.0</th>\n",
       "      <td>105</td>\n",
       "      <td>3654</td>\n",
       "      <td>0</td>\n",
       "      <td>0</td>\n",
       "      <td>82</td>\n",
       "      <td>0</td>\n",
       "    </tr>\n",
       "    <tr>\n",
       "      <th>5.0</th>\n",
       "      <td>0</td>\n",
       "      <td>5</td>\n",
       "      <td>0</td>\n",
       "      <td>0</td>\n",
       "      <td>0</td>\n",
       "      <td>4</td>\n",
       "    </tr>\n",
       "  </tbody>\n",
       "</table>\n",
       "</div>"
      ]
     },
     "execution_count": 371,
     "metadata": {},
     "output_type": "execute_result"
    }
   ],
   "execution_count": 371
  },
  {
   "metadata": {},
   "cell_type": "markdown",
   "source": "### Attention Query",
   "id": "3e60e74bb6b58b2f"
  },
  {
   "metadata": {
    "ExecuteTime": {
     "end_time": "2024-11-05T17:25:04.866668Z",
     "start_time": "2024-11-05T17:25:04.860443Z"
    }
   },
   "cell_type": "code",
   "source": [
    "perturbed_minimized_query = get_shortcuts_attention_query_or_file(\n",
    "    perturbed_collected,\n",
    "    context_test[perturbed_indices], \n",
    "    events_test[perturbed_indices]\n",
    ")"
   ],
   "id": "1aae9ea5669d056c",
   "outputs": [
    {
     "name": "stdout",
     "output_type": "stream",
     "text": [
      "Loading perturbed/minimized_attention_query/ALPHA=1.0, EPSILON=0.5.pt\n"
     ]
    }
   ],
   "execution_count": 372
  },
  {
   "metadata": {
    "ExecuteTime": {
     "end_time": "2024-11-05T17:25:07.496129Z",
     "start_time": "2024-11-05T17:25:04.867779Z"
    }
   },
   "cell_type": "code",
   "source": "get_matrix(context_test[perturbed_indices], perturbed_minimized_query, perturbed_collected)",
   "id": "6dfd91b04a66445a",
   "outputs": [
    {
     "name": "stdout",
     "output_type": "stream",
     "text": [
      "[ 50,   0,   0,   0,   0,   0,   0,   0,   0,   0]\n",
      "[ 40,  71,   0,   0,   0,   0,   0,   0,   0,   0]\n",
      "[ 71,  53, 137,   0,   0,   0,   0,   0,   0,   0]\n",
      "[ 57,  48,  56, 150,   0,   0,   0,   0,   0,   0]\n",
      "[ 55,  33,  65,  58, 159,   0,   0,   0,   0,   0]\n",
      "[ 41,  31,  41,  61,  62, 169,   0,   0,   0,   0]\n",
      "[ 34,  14,  43,  31,  36,  49, 154,   0,   0,   0]\n",
      "[ 19,  25,  27,  25,  21,  46,  56, 179,   0,   0]\n",
      "[ 27,  24,  36,  16,  17,  20,  37,  73, 107,   0]\n",
      "[ 20,  15,  29,  25,  33,  49,  32,  66,  64,  76]\n"
     ]
    }
   ],
   "execution_count": 373
  },
  {
   "metadata": {
    "ExecuteTime": {
     "end_time": "2024-11-05T17:25:07.790812Z",
     "start_time": "2024-11-05T17:25:07.497302Z"
    }
   },
   "cell_type": "code",
   "source": [
    "print(\"Unique:\", len(get_unique_indices_per_row(perturbed_minimized_query)))\n",
    "res_perturbed_shortcuts = interpret(perturbed_minimized_query, events_test[perturbed_indices])\n",
    "format_series(res_perturbed_shortcuts)"
   ],
   "id": "6e81461aaca6aff2",
   "outputs": [
    {
     "name": "stdout",
     "output_type": "stream",
     "text": [
      "Unique: 2819\n"
     ]
    },
    {
     "data": {
      "text/plain": [
       "-1.0    3033\n",
       "Name: count, dtype: int64"
      ]
     },
     "execution_count": 374,
     "metadata": {},
     "output_type": "execute_result"
    }
   ],
   "execution_count": 374
  },
  {
   "metadata": {
    "ExecuteTime": {
     "end_time": "2024-11-05T17:25:07.807026Z",
     "start_time": "2024-11-05T17:25:07.793302Z"
    }
   },
   "cell_type": "code",
   "source": "format_confusion_matrix(labels_test[perturbed_indices].cpu(), res_perturbed_shortcuts)",
   "id": "a54863531ff990d5",
   "outputs": [
    {
     "data": {
      "text/plain": [
       "      -1.0   1.0   2.0   3.0   5.0\n",
       "-1.0     0     0     0     0     0\n",
       " 1.0    35     0     0     0     0\n",
       " 2.0   284     0     0     0     0\n",
       " 3.0  2713     0     0     0     0\n",
       " 5.0     1     0     0     0     0"
      ],
      "text/html": [
       "<div>\n",
       "<style scoped>\n",
       "    .dataframe tbody tr th:only-of-type {\n",
       "        vertical-align: middle;\n",
       "    }\n",
       "\n",
       "    .dataframe tbody tr th {\n",
       "        vertical-align: top;\n",
       "    }\n",
       "\n",
       "    .dataframe thead th {\n",
       "        text-align: right;\n",
       "    }\n",
       "</style>\n",
       "<table border=\"1\" class=\"dataframe\">\n",
       "  <thead>\n",
       "    <tr style=\"text-align: right;\">\n",
       "      <th></th>\n",
       "      <th>-1.0</th>\n",
       "      <th>1.0</th>\n",
       "      <th>2.0</th>\n",
       "      <th>3.0</th>\n",
       "      <th>5.0</th>\n",
       "    </tr>\n",
       "  </thead>\n",
       "  <tbody>\n",
       "    <tr>\n",
       "      <th>-1.0</th>\n",
       "      <td>0</td>\n",
       "      <td>0</td>\n",
       "      <td>0</td>\n",
       "      <td>0</td>\n",
       "      <td>0</td>\n",
       "    </tr>\n",
       "    <tr>\n",
       "      <th>1.0</th>\n",
       "      <td>35</td>\n",
       "      <td>0</td>\n",
       "      <td>0</td>\n",
       "      <td>0</td>\n",
       "      <td>0</td>\n",
       "    </tr>\n",
       "    <tr>\n",
       "      <th>2.0</th>\n",
       "      <td>284</td>\n",
       "      <td>0</td>\n",
       "      <td>0</td>\n",
       "      <td>0</td>\n",
       "      <td>0</td>\n",
       "    </tr>\n",
       "    <tr>\n",
       "      <th>3.0</th>\n",
       "      <td>2713</td>\n",
       "      <td>0</td>\n",
       "      <td>0</td>\n",
       "      <td>0</td>\n",
       "      <td>0</td>\n",
       "    </tr>\n",
       "    <tr>\n",
       "      <th>5.0</th>\n",
       "      <td>1</td>\n",
       "      <td>0</td>\n",
       "      <td>0</td>\n",
       "      <td>0</td>\n",
       "      <td>0</td>\n",
       "    </tr>\n",
       "  </tbody>\n",
       "</table>\n",
       "</div>"
      ]
     },
     "execution_count": 375,
     "metadata": {},
     "output_type": "execute_result"
    }
   ],
   "execution_count": 375
  },
  {
   "metadata": {
    "ExecuteTime": {
     "end_time": "2024-11-05T17:25:08.309172Z",
     "start_time": "2024-11-05T17:25:07.808537Z"
    }
   },
   "cell_type": "code",
   "source": [
    "interpret_query_shortcuts_combined, interpret_query_shortcuts_indices = get_combined(perturbed_minimized_query, perturbed_indices)\n",
    "format_series(interpret_query_shortcuts_combined)"
   ],
   "id": "70f00f41b82b98a9",
   "outputs": [
    {
     "data": {
      "text/plain": [
       "-3.0     160\n",
       "-1.0    3883\n",
       " 2.0      20\n",
       " 3.0      82\n",
       " 5.0      14\n",
       "Name: count, dtype: int64"
      ]
     },
     "execution_count": 376,
     "metadata": {},
     "output_type": "execute_result"
    }
   ],
   "execution_count": 376
  },
  {
   "metadata": {
    "ExecuteTime": {
     "end_time": "2024-11-05T17:25:08.333309Z",
     "start_time": "2024-11-05T17:25:08.311428Z"
    }
   },
   "cell_type": "code",
   "source": "format_confusion_matrix(labels_test[interpret_query_shortcuts_indices].cpu(), interpret_query_shortcuts_combined)",
   "id": "3b989efc5a70112c",
   "outputs": [
    {
     "data": {
      "text/plain": [
       "      -3.0  -1.0   1.0   2.0   3.0   5.0\n",
       "-3.0     0     0     0     0     0     0\n",
       "-1.0     0     0     0     0     0     0\n",
       " 1.0     0    55     0     0     0    10\n",
       " 2.0    55   338     0    20     0     0\n",
       " 3.0   105  3485     0     0    82     0\n",
       " 5.0     0     5     0     0     0     4"
      ],
      "text/html": [
       "<div>\n",
       "<style scoped>\n",
       "    .dataframe tbody tr th:only-of-type {\n",
       "        vertical-align: middle;\n",
       "    }\n",
       "\n",
       "    .dataframe tbody tr th {\n",
       "        vertical-align: top;\n",
       "    }\n",
       "\n",
       "    .dataframe thead th {\n",
       "        text-align: right;\n",
       "    }\n",
       "</style>\n",
       "<table border=\"1\" class=\"dataframe\">\n",
       "  <thead>\n",
       "    <tr style=\"text-align: right;\">\n",
       "      <th></th>\n",
       "      <th>-3.0</th>\n",
       "      <th>-1.0</th>\n",
       "      <th>1.0</th>\n",
       "      <th>2.0</th>\n",
       "      <th>3.0</th>\n",
       "      <th>5.0</th>\n",
       "    </tr>\n",
       "  </thead>\n",
       "  <tbody>\n",
       "    <tr>\n",
       "      <th>-3.0</th>\n",
       "      <td>0</td>\n",
       "      <td>0</td>\n",
       "      <td>0</td>\n",
       "      <td>0</td>\n",
       "      <td>0</td>\n",
       "      <td>0</td>\n",
       "    </tr>\n",
       "    <tr>\n",
       "      <th>-1.0</th>\n",
       "      <td>0</td>\n",
       "      <td>0</td>\n",
       "      <td>0</td>\n",
       "      <td>0</td>\n",
       "      <td>0</td>\n",
       "      <td>0</td>\n",
       "    </tr>\n",
       "    <tr>\n",
       "      <th>1.0</th>\n",
       "      <td>0</td>\n",
       "      <td>55</td>\n",
       "      <td>0</td>\n",
       "      <td>0</td>\n",
       "      <td>0</td>\n",
       "      <td>10</td>\n",
       "    </tr>\n",
       "    <tr>\n",
       "      <th>2.0</th>\n",
       "      <td>55</td>\n",
       "      <td>338</td>\n",
       "      <td>0</td>\n",
       "      <td>20</td>\n",
       "      <td>0</td>\n",
       "      <td>0</td>\n",
       "    </tr>\n",
       "    <tr>\n",
       "      <th>3.0</th>\n",
       "      <td>105</td>\n",
       "      <td>3485</td>\n",
       "      <td>0</td>\n",
       "      <td>0</td>\n",
       "      <td>82</td>\n",
       "      <td>0</td>\n",
       "    </tr>\n",
       "    <tr>\n",
       "      <th>5.0</th>\n",
       "      <td>0</td>\n",
       "      <td>5</td>\n",
       "      <td>0</td>\n",
       "      <td>0</td>\n",
       "      <td>0</td>\n",
       "      <td>4</td>\n",
       "    </tr>\n",
       "  </tbody>\n",
       "</table>\n",
       "</div>"
      ]
     },
     "execution_count": 377,
     "metadata": {},
     "output_type": "execute_result"
    }
   ],
   "execution_count": 377
  },
  {
   "metadata": {
    "ExecuteTime": {
     "end_time": "2024-11-05T17:25:12.640917Z",
     "start_time": "2024-11-05T17:25:08.335223Z"
    }
   },
   "cell_type": "code",
   "source": "show_clusters(context_test, events_test)",
   "id": "212a9376d02c1f00",
   "outputs": [],
   "execution_count": 378
  }
 ],
 "metadata": {
  "kernelspec": {
   "display_name": "Python 3",
   "language": "python",
   "name": "python3"
  },
  "language_info": {
   "codemirror_mode": {
    "name": "ipython",
    "version": 2
   },
   "file_extension": ".py",
   "mimetype": "text/x-python",
   "name": "python",
   "nbconvert_exporter": "python",
   "pygments_lexer": "ipython2",
   "version": "2.7.6"
  }
 },
 "nbformat": 4,
 "nbformat_minor": 5
}
